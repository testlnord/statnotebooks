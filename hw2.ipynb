{
 "metadata": {
  "name": ""
 },
 "nbformat": 3,
 "nbformat_minor": 0,
 "worksheets": [
  {
   "cells": [
    {
     "cell_type": "heading",
     "level": 1,
     "metadata": {},
     "source": [
      "\u0414\u043e\u043c\u0430\u0448\u043d\u044f\u044f \u0440\u0430\u0431\u043e\u0442\u0430 \u21162"
     ]
    },
    {
     "cell_type": "code",
     "collapsed": false,
     "input": [
      "%pylab inline"
     ],
     "language": "python",
     "metadata": {},
     "outputs": [
      {
       "output_type": "stream",
       "stream": "stdout",
       "text": [
        "Populating the interactive namespace from numpy and matplotlib\n"
       ]
      }
     ],
     "prompt_number": 1
    },
    {
     "cell_type": "code",
     "collapsed": false,
     "input": [
      "%load_ext rmagic"
     ],
     "language": "python",
     "metadata": {},
     "outputs": [],
     "prompt_number": 2
    },
    {
     "cell_type": "heading",
     "level": 3,
     "metadata": {},
     "source": [
      "teengambling"
     ]
    },
    {
     "cell_type": "markdown",
     "metadata": {},
     "source": [
      "\u0414\u043b\u044f \u0434\u0430\u043d\u043d\u044b\u0445 teengambling (\u0441\u043a\u043e\u043b\u044c\u043a\u043e \u0434\u0435\u043d\u0435\u0433 \u043f\u043e\u0434\u0440\u043e\u0441\u0442\u043a\u0438 \u0438\u0437 \u0440\u0430\u0437\u043d\u044b\u0445 \u0441\u043e\u0446\u0438\u0430\u043b\u044c\u043d\u044b\u0445 \u0441\u043b\u043e\u0435\u0432 \u0441\u043f\u0443\u0441\u043a\u0430\u044e\u0442 \u043d\u0430 \u0430\u0437\u0430\u0440\u0442\u043d\u044b\u0435 \u0438\u0433\u0440\u044b) \u043f\u0440\u043e\u0432\u0435\u0441\u0442\u0438 \u0430\u043d\u0430\u043b\u0438\u0437 (\u0430\u043d\u0430\u043b\u043e\u0433\u0438\u0447\u043d\u043e \u0430\u043d\u0430\u043b\u0438\u0437\u0443 \u0434\u043b\u044f\n",
      "toothgrowth) \u0438 \u043e\u043f\u0440\u0435\u0434\u0435\u043b\u0438\u0442\u044c \u0437\u0430\u0432\u0438\u0441\u0438\u043c\u043e\u0441\u0442\u044c \u043c\u0435\u0436\u0434\u0443 \u043f\u043e\u043b\u043e\u043c, \u0434\u043e\u0445\u043e\u0434\u043e\u043c, \u0441\u0442\u0430\u0442\u0443\u0441\u043e\u043c, \u043e\u0431\u0440\u0430\u0437\u043e\u0432\u0430\u043d\u0438\u0435\u043c \u0438 \u0442\u0440\u0430\u0442\u0430\u043c\u0438 \u043d\u0430 \u0438\u0433\u0440\u044b. \u041f\u0440\u043e\u0438\u043d\u0442\u0435\u0440\u043f\u0440\u0435\u0442\u0438\u0440\u043e\u0432\u0430\u0442\u044c \u0440\u0435\u0437\u0443\u043b\u044c\u0442\u0430\u0442. \u0417\u0430\u0432\u0435\u0440\u0448\u0438\u0442\u044c \u0430\u043d\u0430\u043b\u0438\u0437 \u0433\u0440\u0430\u0444\u0438\u043a\u043e\u043c,\n",
      "\u043a\u043e\u0442\u043e\u0440\u044b\u0439 \u043e\u043a\u043e\u043d\u0447\u0430\u0442\u0435\u043b\u044c\u043d\u043e \u043f\u0440\u043e\u044f\u0441\u043d\u0438\u0442 \u043f\u0440\u043e\u0438\u0441\u0445\u043e\u0434\u044f\u0449\u0435\u0435.\n"
     ]
    },
    {
     "cell_type": "code",
     "collapsed": false,
     "input": [
      "%%R\n",
      "tg.data <- read.table('teengambling.txt', header=TRUE)\n",
      "tg.data$sex <- factor(tg.data$sex)\n",
      "print(head(tg.data))"
     ],
     "language": "python",
     "metadata": {},
     "outputs": [
      {
       "metadata": {},
       "output_type": "display_data",
       "text": [
        "  sex status income verbal gamble\n",
        "1   1     51   2.00      8    0.0\n",
        "2   1     28   2.50      8    0.0\n",
        "3   1     37   2.00      6    0.0\n",
        "4   1     28   7.00      4    7.3\n",
        "5   1     65   2.00      8   19.6\n",
        "6   1     61   3.47      6    0.1\n"
       ]
      }
     ],
     "prompt_number": 3
    },
    {
     "cell_type": "markdown",
     "metadata": {},
     "source": [
      "\u041f\u043e\u043f\u0440\u043e\u0431\u0443\u0435\u043c \u0443\u0441\u043f\u043e\u043a\u043e\u0438\u0442\u044c \u0444\u0435\u043c\u0438\u043d\u0438\u0441\u0442\u043e\u043a. \u041f\u0440\u043e\u0432\u0435\u0440\u0438\u043c, \u0435\u0441\u0442\u044c \u043b\u0438 \u0441\u0432\u044f\u0437\u044c \u043c\u0435\u0436\u0434\u0443 \u043f\u043e\u043b\u043e\u043c \u0438 \u0442\u0440\u0430\u0442\u0430\u043c\u0438 \u043d\u0430 \u0430\u0437\u0430\u0440\u0442\u043d\u044b\u0435 \u0438\u0433\u0440\u044b?"
     ]
    },
    {
     "cell_type": "code",
     "collapsed": false,
     "input": [
      "%%R\n",
      "lm.gender <- lm(gamble ~ sex, data=tg.data)\n",
      "print(summary(lm.gender))"
     ],
     "language": "python",
     "metadata": {},
     "outputs": [
      {
       "metadata": {},
       "output_type": "display_data",
       "text": [
        "\n",
        "Call:\n",
        "lm(formula = gamble ~ sex, data = tg.data)\n",
        "\n",
        "Residuals:\n",
        "    Min      1Q  Median      3Q     Max \n",
        "-29.775 -18.325  -3.766   6.334 126.225 \n",
        "\n",
        "Coefficients:\n",
        "            Estimate Std. Error t value Pr(>|t|)    \n",
        "(Intercept)   29.775      5.498   5.415 2.28e-06 ***\n",
        "sex1         -25.909      8.648  -2.996  0.00444 ** \n",
        "---\n",
        "Signif. codes:  0 \u2018***\u2019 0.001 \u2018**\u2019 0.01 \u2018*\u2019 0.05 \u2018.\u2019 0.1 \u2018 \u2019 1\n",
        "\n",
        "Residual standard error: 29.09 on 45 degrees of freedom\n",
        "Multiple R-squared:  0.1663,\tAdjusted R-squared:  0.1478 \n",
        "F-statistic: 8.977 on 1 and 45 DF,  p-value: 0.004437\n",
        "\n"
       ]
      }
     ],
     "prompt_number": 4
    },
    {
     "cell_type": "markdown",
     "metadata": {},
     "source": [
      "\u041a\u0430\u043a \u0432\u0438\u0434\u043d\u043e sex1, \u0442.\u0435. \u0436\u0435\u043d\u0449\u0438\u043d\u044b, \u0442\u0440\u0430\u0442\u044f\u0442 \u043d\u0430 \u0438\u0433\u0440\u044b \u0432 \u0441\u0440\u0435\u0434\u043d\u0435\u043c \u043c\u0435\u043d\u044c\u0448\u0435 \u043c\u0443\u0436\u0447\u0438\u043d. \u041f\u0440\u0438\u0447\u0435\u043c \u0437\u0430\u0432\u0438\u0441\u0438\u043c\u043e\u0441\u0442\u044c \u0442\u0443\u0442 \u0445\u043e\u0440\u043e\u0448\u0430\u044f: $p$ \u043c\u0430\u043b\u0435\u043d\u044c\u043a\u043e\u0435."
     ]
    },
    {
     "cell_type": "markdown",
     "metadata": {},
     "source": [
      "\u0422\u0435\u043f\u0435\u0440\u044c \u043f\u043e\u0441\u043c\u043e\u0442\u0440\u0438\u043c \u043d\u0430 \u0442\u043e, \u043a\u0430\u043a \u0432\u044b\u0433\u043b\u044f\u0434\u0438\u0442 \u043c\u043e\u0434\u0435\u043b\u044c \u043e\u0442 \u0432\u0441\u0435\u0445 \u043f\u0430\u0440\u0430\u043c\u0435\u0442\u0440\u043e\u0432."
     ]
    },
    {
     "cell_type": "code",
     "collapsed": false,
     "input": [
      "%%R\n",
      "lm.all <- lm(gamble ~ . , data = tg.data)\n",
      "print(summary(lm.all))"
     ],
     "language": "python",
     "metadata": {},
     "outputs": [
      {
       "metadata": {},
       "output_type": "display_data",
       "text": [
        "\n",
        "Call:\n",
        "lm(formula = gamble ~ ., data = tg.data)\n",
        "\n",
        "Residuals:\n",
        "    Min      1Q  Median      3Q     Max \n",
        "-51.082 -11.320  -1.451   9.452  94.252 \n",
        "\n",
        "Coefficients:\n",
        "             Estimate Std. Error t value Pr(>|t|)    \n",
        "(Intercept)  22.55565   17.19680   1.312   0.1968    \n",
        "sex1        -22.11833    8.21111  -2.694   0.0101 *  \n",
        "status        0.05223    0.28111   0.186   0.8535    \n",
        "income        4.96198    1.02539   4.839 1.79e-05 ***\n",
        "verbal       -2.95949    2.17215  -1.362   0.1803    \n",
        "---\n",
        "Signif. codes:  0 \u2018***\u2019 0.001 \u2018**\u2019 0.01 \u2018*\u2019 0.05 \u2018.\u2019 0.1 \u2018 \u2019 1\n",
        "\n",
        "Residual standard error: 22.69 on 42 degrees of freedom\n",
        "Multiple R-squared:  0.5267,\tAdjusted R-squared:  0.4816 \n",
        "F-statistic: 11.69 on 4 and 42 DF,  p-value: 1.815e-06\n",
        "\n"
       ]
      }
     ],
     "prompt_number": 5
    },
    {
     "cell_type": "markdown",
     "metadata": {},
     "source": [
      "\u0421\u043a\u043b\u0430\u0434\u044b\u0432\u0430\u0435\u0442\u0441\u044f \u0432\u043f\u0435\u0447\u0430\u0442\u043b\u0435\u043d\u0438\u0435, \u0447\u0442\u043e \u0437\u0430\u0442\u0440\u0430\u0442\u044b \u043d\u0430 \u0430\u0437\u0430\u0440\u0442\u043d\u044b\u0435 \u0438\u0433\u0440\u044b \u0437\u0430\u0432\u0438\u0441\u044f\u0442 \u0442\u043e\u043b\u044c\u043a\u043e \u043e\u0442 \u0434\u043e\u0445\u043e\u0434\u0430 \u0438 \u043f\u043e\u043b\u0430. \u0427\u0435\u043c \u0431\u043e\u043b\u044c\u0448\u0435 \u0447\u0435\u043b\u043e\u0432\u0435\u043a \u0437\u0430\u0440\u0430\u0431\u0430\u0442\u044b\u0432\u0430\u0435\u0442, \u0442\u0435\u043c \u0431\u043e\u043b\u044c\u0448\u0435 \u043e\u043d \u0442\u0440\u0430\u0442\u0438\u0442, \u0430 \u0447\u0435\u043c \u0431\u043e\u043b\u044c\u0448\u0435 \u043e\u043d \u0436\u0435\u043d\u0449\u0438\u043d\u0430 \u0442\u0435\u043c \u043c\u0435\u043d\u044c\u0448\u0435 \u043e\u043d \u0442\u0440\u0430\u0442\u0438\u0442."
     ]
    },
    {
     "cell_type": "code",
     "collapsed": false,
     "input": [
      "%%R \n",
      "lm.bad <- lm(gamble ~ status + verbal, data=tg.data)\n",
      "print(summary(lm.bad))"
     ],
     "language": "python",
     "metadata": {},
     "outputs": [
      {
       "metadata": {},
       "output_type": "display_data",
       "text": [
        "\n",
        "Call:\n",
        "lm(formula = gamble ~ status + verbal, data = tg.data)\n",
        "\n",
        "Residuals:\n",
        "    Min      1Q  Median      3Q     Max \n",
        "-28.162 -17.449 -10.252   1.207 127.626 \n",
        "\n",
        "Coefficients:\n",
        "            Estimate Std. Error t value Pr(>|t|)  \n",
        "(Intercept)  42.0921    17.6245   2.388   0.0213 *\n",
        "status        0.1694     0.3159   0.536   0.5946  \n",
        "verbal       -4.5729     2.9378  -1.557   0.1267  \n",
        "---\n",
        "Signif. codes:  0 \u2018***\u2019 0.001 \u2018**\u2019 0.01 \u2018*\u2019 0.05 \u2018.\u2019 0.1 \u2018 \u2019 1\n",
        "\n",
        "Residual standard error: 31.33 on 44 degrees of freedom\n",
        "Multiple R-squared:  0.0546,\tAdjusted R-squared:  0.01163 \n",
        "F-statistic: 1.271 on 2 and 44 DF,  p-value: 0.2908\n",
        "\n"
       ]
      }
     ],
     "prompt_number": 6
    },
    {
     "cell_type": "markdown",
     "metadata": {},
     "source": [
      "\u0414\u0430\u0436\u0435 \u0435\u0441\u043b\u0438 \u043d\u0430 \u0441\u0442\u0430\u0442\u0443\u0441\u0435 \u0438 \u0432\u0435\u0440\u0431\u0430\u043b\u0438\u043a\u0435 \u043f\u043e\u0441\u0442\u0440\u043e\u0438\u0442\u044c \u043c\u043e\u0434\u0435\u043b\u044c, \u0442\u043e \u0432\u0438\u0434\u043d\u043e, \u0447\u0442\u043e \u043e\u0442 \u043d\u0438\u0445 \u043d\u0438\u0447\u0435\u0433\u043e \u0442\u043e\u043b\u043a\u043e\u043c \u043d\u0435 \u0437\u0430\u0432\u0438\u0441\u0438\u0442."
     ]
    },
    {
     "cell_type": "code",
     "collapsed": false,
     "input": [
      "%%R \n",
      "lm.good.female <- lm(gamble ~ income, data = tg.data[tg.data$sex == 1, ])\n",
      "print(summary(lm.good.female))\n",
      "lm.good.male <- lm(gamble ~ income, data = tg.data[!tg.data$sex == 1, ])\n",
      "print(summary(lm.good.male))\n"
     ],
     "language": "python",
     "metadata": {},
     "outputs": [
      {
       "metadata": {},
       "output_type": "display_data",
       "text": [
        "\n",
        "Call:\n",
        "lm(formula = gamble ~ income, data = tg.data[tg.data$sex == 1, \n",
        "    ])\n",
        "\n",
        "Residuals:\n",
        "   Min     1Q Median     3Q    Max \n",
        "-4.702 -3.527 -1.790  1.883 16.110 \n",
        "\n",
        "Coefficients:\n",
        "            Estimate Std. Error t value Pr(>|t|)\n",
        "(Intercept)   3.1400     2.3273   1.349    0.195\n",
        "income        0.1749     0.4789   0.365    0.719\n",
        "\n",
        "Residual standard error: 5.279 on 17 degrees of freedom\n",
        "Multiple R-squared:  0.007786,\tAdjusted R-squared:  -0.05058 \n",
        "F-statistic: 0.1334 on 1 and 17 DF,  p-value: 0.7194\n",
        "\n",
        "\n",
        "Call:\n",
        "lm(formula = gamble ~ income, data = tg.data[!tg.data$sex == \n",
        "    1, ])\n",
        "\n",
        "Residuals:\n",
        "    Min      1Q  Median      3Q     Max \n",
        "-56.522 -16.402  -2.342   7.901  93.478 \n",
        "\n",
        "Coefficients:\n",
        "            Estimate Std. Error t value Pr(>|t|)    \n",
        "(Intercept)   -2.660      8.021  -0.332    0.743    \n",
        "income         6.518      1.255   5.195 2.01e-05 ***\n",
        "---\n",
        "Signif. codes:  0 \u2018***\u2019 0.001 \u2018**\u2019 0.01 \u2018*\u2019 0.05 \u2018.\u2019 0.1 \u2018 \u2019 1\n",
        "\n",
        "Residual standard error: 26.64 on 26 degrees of freedom\n",
        "Multiple R-squared:  0.5093,\tAdjusted R-squared:  0.4905 \n",
        "F-statistic: 26.99 on 1 and 26 DF,  p-value: 2.01e-05\n",
        "\n"
       ]
      }
     ],
     "prompt_number": 7
    },
    {
     "cell_type": "markdown",
     "metadata": {},
     "source": [
      "\u0412\u043e\u0442 \u0435\u0441\u043b\u0438 \u043f\u043e\u043c\u043e\u0434\u0435\u043b\u0438\u0440\u043e\u0432\u0430\u0442\u044c \u043d\u0435\u0437\u0430\u0432\u0438\u0441\u0438\u043c\u043e \u043e\u0442 \u043a\u0430\u0436\u0434\u043e\u0433\u043e \u043f\u043e\u043b\u0430, \u0442\u043e \u0432\u0438\u0434\u043d\u043e, \u0447\u0442\u043e \u0436\u0435\u043d\u0449\u0438\u043d\u044b \u0438\u0433\u0440\u0430\u044e\u0442 \u043c\u0430\u043b\u043e \u043d\u0435\u0437\u0430\u0432\u0438\u0441\u0438\u043c\u043e \u043e\u0442 \u0434\u043e\u0445\u043e\u0434\u0430. \u0410 \u0432\u043e\u0442 \u043c\u0443\u0436\u0447\u0438\u043d\u044b \u0441 \u0443\u0432\u0435\u043b\u0438\u0447\u0435\u043d\u0438\u0435\u043c \u0434\u043e\u0445\u043e\u0434\u0430 \u043d\u0430\u0447\u0438\u043d\u0430\u044e\u0442 \u0438\u0433\u0440\u0430\u0442\u044c \u0431\u043e\u043b\u044c\u0448\u0435. \u041d\u0430\u0433\u043b\u044f\u0434\u043d\u044b\u0439 \u0440\u0438\u0441\u0443\u043d\u043e\u043a, \u0438\u0437 \u043a\u043e\u0442\u043e\u0440\u043e\u0433\u043e \u0432\u0441\u0435 \u0434\u043e\u043b\u0436\u043d\u043e \u0441\u0442\u0430\u0442\u044c \u043f\u043e\u043d\u044f\u0442\u043d\u043e:"
     ]
    },
    {
     "cell_type": "code",
     "collapsed": false,
     "input": [
      "%%R\n",
      "cols <- rep(\"red\", length(tg.data$sex))\n",
      "cols[tg.data$sex==0] <- \"blue\"\n",
      "plot(tg.data$income, tg.data$gamble, col = cols)\n"
     ],
     "language": "python",
     "metadata": {},
     "outputs": [
      {
       "metadata": {},
       "output_type": "display_data",
       "png": "[encoded data removed]"
      }
     ],
     "prompt_number": 8
    },
    {
     "cell_type": "markdown",
     "metadata": {},
     "source": [
      "\u041f\u043e\u043f\u0440\u043e\u0431\u0443\u0435\u043c sex * income \u043c\u043e\u0434\u0435\u043b\u044c"
     ]
    },
    {
     "cell_type": "code",
     "collapsed": false,
     "input": [
      "%%R \n",
      "lm.sin <- lm(gamble ~ sex*income, data = tg.data)\n",
      "print(summary(lm.sin))"
     ],
     "language": "python",
     "metadata": {},
     "outputs": [
      {
       "metadata": {},
       "output_type": "display_data",
       "text": [
        "\n",
        "Call:\n",
        "lm(formula = gamble ~ sex * income, data = tg.data)\n",
        "\n",
        "Residuals:\n",
        "    Min      1Q  Median      3Q     Max \n",
        "-56.522  -4.860  -1.790   6.273  93.478 \n",
        "\n",
        "Coefficients:\n",
        "            Estimate Std. Error t value Pr(>|t|)    \n",
        "(Intercept)  -2.6596     6.3164  -0.421  0.67580    \n",
        "sex1          5.7996    11.2003   0.518  0.60724    \n",
        "income        6.5181     0.9881   6.597 4.95e-08 ***\n",
        "sex1:income  -6.3432     2.1446  -2.958  0.00502 ** \n",
        "---\n",
        "Signif. codes:  0 \u2018***\u2019 0.001 \u2018**\u2019 0.01 \u2018*\u2019 0.05 \u2018.\u2019 0.1 \u2018 \u2019 1\n",
        "\n",
        "Residual standard error: 20.98 on 43 degrees of freedom\n",
        "Multiple R-squared:  0.5857,\tAdjusted R-squared:  0.5568 \n",
        "F-statistic: 20.26 on 3 and 43 DF,  p-value: 2.451e-08\n",
        "\n"
       ]
      }
     ],
     "prompt_number": 9
    },
    {
     "cell_type": "markdown",
     "metadata": {},
     "source": [
      "\u0417\u0430\u0432\u0438\u0441\u0438\u043c\u043e\u0441\u0442\u044c \u0435\u0441\u0442\u044c. \u0422.\u0435. \u043c\u0443\u0436\u0447\u0438\u043d\u044b \u0438\u0433\u0440\u0430\u044e\u0442 \u0442\u0435\u043c \u0431\u043e\u043b\u044c\u0448\u0435, \u0447\u0435\u043c \u043e\u043d\u0438 \u0437\u0430\u0440\u0430\u0431\u0430\u0442\u044b\u0432\u0430\u044e\u0442. \u0410 \u0432\u043e\u0442 \u0443 \u0436\u0435\u043d\u0449\u0438\u043d \u043a\u043e\u044d\u0444\u0444\u0438\u0446\u0438\u0435\u043d\u0442 \u043f\u0440\u0438 sex1:income \u043f\u043e\u0447\u0442\u0438 \u043a\u0430\u043a \u0443 income, \u0442.\u0435. \u0443 \u043c\u0443\u0436\u0447\u0438\u043d, \u0442\u043e\u043b\u044c\u043a\u043e \u0441 \u043e\u0431\u0440\u0430\u0442\u043d\u044b\u043c \u0437\u043d\u0430\u043a\u043e\u043c. \u0416\u0435\u043d\u0441\u043a\u043e\u0441\u0442\u044c \u0432\u044b\u0447\u0435\u0442\u0430\u0435\u0442 \u0438 \u0441\u0432\u043e\u0434\u0438\u0442 \u0437\u0430\u0432\u0438\u0441\u0438\u043c\u043e\u0441\u0442\u044c \u043e\u0442 \u0434\u043e\u0445\u043e\u0434\u0430 \u043a 0."
     ]
    },
    {
     "cell_type": "heading",
     "level": 3,
     "metadata": {},
     "source": [
      "\u0423\u043d\u0438\u0432\u0435\u0440\u0441\u0438\u0442\u0435\u0442\u044b"
     ]
    },
    {
     "cell_type": "markdown",
     "metadata": {},
     "source": [
      "\u041f\u043e\u0434\u043a\u043b\u044e\u0447\u0430\u0435\u043c \u043a\u0443\u0447\u0443 \u0431\u0438\u0431\u043b\u0438\u043e\u0442\u0435\u043a, \u0447\u0442\u043e\u0431\u044b \u0431\u044b\u043b\u043e \u043a\u0430\u043a \u0432 \u043f\u0440\u0438\u043c\u0435\u0440\u0435."
     ]
    },
    {
     "cell_type": "code",
     "collapsed": false,
     "input": [
      "%%R\n",
      "library(MASS)\n",
      "library(lattice)\n",
      "library(latticeExtra)\n"
     ],
     "language": "python",
     "metadata": {},
     "outputs": [
      {
       "metadata": {},
       "output_type": "display_data",
       "text": [
        "Loading required package: RColorBrewer\n"
       ]
      }
     ],
     "prompt_number": 10
    },
    {
     "cell_type": "markdown",
     "metadata": {},
     "source": [
      "\u0417\u0430\u0433\u0440\u0443\u0436\u0430\u0435\u043c \u0434\u0430\u043d\u043d\u044b\u0435 \u0438 \u0432\u044b\u043a\u0438\u0434\u044b\u0432\u0430\u0435\u043c \u043d\u0435\u043d\u0443\u0436\u043d\u044b\u0435 \u043f\u043e\u043b\u044f, \u0447\u0442\u043e\u0431\u044b \u0431\u044b\u043b\u043e \u043a\u0430\u043a \u0432 \u043f\u0440\u0438\u043c\u0435\u0440\u0435. \u0415\u0449\u0435 \u0441\u0440\u0430\u0437\u0443 \u0432\u044b\u043a\u0438\u0434\u044b\u0432\u0430\u0435\u043c \u0434\u0430\u043d\u043d\u044b\u0435 \u043f\u043e \u0433\u043e\u0441\u0443\u0434\u0430\u0440\u0441\u0442\u0432\u0435\u043d\u043d\u044b\u043c \u0443\u043d\u0438\u0432\u0435\u0440\u0441\u0438\u0442\u0435\u0442\u0430\u043c."
     ]
    },
    {
     "cell_type": "code",
     "collapsed": false,
     "input": [
      "%%R\n",
      "univ.data <- read.csv2(\"I.csv\", header=TRUE)\n",
      "univ.data <- subset(univ.data, select = c(PPIND, AVRCOMB, NEW10, FULLTIME, IN_STATE, ROOM, ADD_FEE, PH_D, GRADUAT, SAL_FULL, NUM_FULL))\n",
      "univ.data$PPIND <- factor(univ.data$PPIND, labels = c(\"Public\", \"Private\"))\n",
      "univ.data <- na.exclude(univ.data)\n",
      "univ.data.priv <- subset(univ.data, PPIND == \"Private\")\n",
      "\n",
      "print(head(univ.data.priv, 1))"
     ],
     "language": "python",
     "metadata": {},
     "outputs": [
      {
       "metadata": {},
       "output_type": "display_data",
       "text": [
        "     PPIND AVRCOMB NEW10 FULLTIME IN_STATE ROOM ADD_FEE PH_D GRADUAT SAL_FULL\n",
        "19 Private    1090    45    13259    17230 3566     330   90      68      802\n",
        "   NUM_FULL\n",
        "19      485\n"
       ]
      }
     ],
     "prompt_number": 11
    },
    {
     "cell_type": "markdown",
     "metadata": {},
     "source": [
      "\u041f\u043e\u0441\u043c\u043e\u0442\u0440\u0438\u043c \u043d\u0435\u043c\u043d\u043e\u0436\u043a\u043e \u043d\u0430 \u0434\u0430\u043d\u043d\u044b\u0435"
     ]
    },
    {
     "cell_type": "code",
     "collapsed": false,
     "input": [
      "%%R\n",
      "print(marginal.plot(subset(univ.data.priv, select = c(ADD_FEE, ROOM, IN_STATE, SAL_FULL))))"
     ],
     "language": "python",
     "metadata": {},
     "outputs": [
      {
       "metadata": {},
       "output_type": "display_data",
       "png": "[encoded data removed]"
      }
     ],
     "prompt_number": 12
    },
    {
     "cell_type": "markdown",
     "metadata": {},
     "source": [
      "\u0412\u0438\u0434\u043d\u043e, \u0447\u0442\u043e \u043a\u0430\u043a\u0438\u0435-\u0442\u043e \u0446\u0435\u043d\u0442\u0440\u044b \u0441\u0434\u0432\u0438\u043d\u0443\u0442\u044b, \u043c\u043e\u0436\u043d\u043e \u043f\u0440\u043e\u043b\u043e\u0433\u043e\u0440\u0438\u0444\u043c\u0438\u0440\u043e\u0432\u0430\u0442\u044c. "
     ]
    },
    {
     "cell_type": "code",
     "collapsed": false,
     "input": [
      "%%R\n",
      "print(marginal.plot(log(subset(univ.data.priv, select = c(ADD_FEE, ROOM, IN_STATE, SAL_FULL)))))"
     ],
     "language": "python",
     "metadata": {},
     "outputs": [
      {
       "metadata": {},
       "output_type": "display_data",
       "png": "[encoded data removed]"
      }
     ],
     "prompt_number": 13
    },
    {
     "cell_type": "markdown",
     "metadata": {},
     "source": [
      "IN_STATE \u0431\u044b\u043b \u0441\u0434\u0432\u0438\u043d\u0443\u0442 \u0432 \u0434\u0440\u0443\u0433\u0443\u044e \u0441\u0442\u043e\u0440\u043e\u043d\u0443, \u0438 \u043f\u043e\u0441\u043b\u0435 \u043b\u043e\u0433\u0430\u0440\u0438\u0444\u043c\u0438\u0440\u043e\u0432\u0430\u043d\u0438\u044f, \u043e\u043d \u043d\u0435 \u0441\u0442\u0430\u043b \u043f\u043e\u0445\u043e\u0436 \u043d\u0430 \u043d\u043e\u0440\u043c\u0430\u043b\u044c\u043d\u043e\u0435 \u0440\u0430\u0441\u043f\u0440\u0435\u0434\u0435\u043b\u0435\u043d\u0438\u0435. \u042f \u043f\u0440\u043e\u0431\u043e\u0432\u0430\u043b \u0435\u0433\u043e \u043f\u0435\u0440\u0435\u0432\u043e\u0440\u0430\u0447\u0438\u0432\u0430\u0442\u044c, \u043d\u043e \u0432 \u044d\u0442\u043e\u043c \u043d\u0435\u0442 \u0434\u043e\u0431\u0440\u0430. \u042f \u0434\u0430\u0436\u0435 \u043f\u043e\u043d\u0438\u043c\u0430\u044e \u043f\u043e\u0447\u0435\u043c\u0443 (\u043d\u0435\u043a\u043e\u0442\u043e\u0440\u044b\u0435 \u0441\u0432\u043e\u0439\u0441\u0442\u0432\u0430 \u043b\u043e\u0433\u0430\u0440\u0438\u0444\u043c\u0430 \u044d\u0442\u043e\u043c\u0443 \u043f\u0440\u0438\u0447\u0438\u043d\u043e\u0439), \u043d\u043e \u0447\u0442\u043e \u0441 \u043d\u0438\u043c \u0432\u0441\u0435-\u0442\u0430\u043a\u0438 \u0434\u0435\u043b\u0430\u0442\u044c?\n",
      "upd \u041e\u0431\u0441\u0443\u0434\u0438\u043b\u0438 \u0438 \u0440\u0435\u0448\u0438\u043b\u0438 \u043f\u0440\u043e\u043b\u043e\u0433\u043e\u0440\u0438\u0444\u043c\u0438\u0440\u043e\u0432\u0430\u0442\u044c \u0434\u043b\u044f \u043e\u0434\u043d\u043e\u043e\u0431\u0440\u0430\u0437\u0438\u044f. \u0425\u043e\u0442\u044f \u0432\u0441\u0435 \u0440\u0430\u0432\u043d\u043e \u0444\u0438\u0433\u043d\u044f."
     ]
    },
    {
     "cell_type": "code",
     "collapsed": false,
     "input": [
      "%%R\n",
      "fit1 <- lm(NEW10 ~ AVRCOMB + FULLTIME + log(IN_STATE) +\n",
      "log(ROOM) + log(ADD_FEE) + log(SAL_FULL) +\n",
      "PH_D + GRADUAT + NUM_FULL, data = univ.data.priv)\n",
      "summary(fit1)"
     ],
     "language": "python",
     "metadata": {},
     "outputs": [],
     "prompt_number": 14
    },
    {
     "cell_type": "code",
     "collapsed": false,
     "input": [
      "%%R\n",
      "fit1 <- lm(NEW10 ~ AVRCOMB + FULLTIME + log(IN_STATE) +\n",
      "log(ROOM) + log(ADD_FEE) + log(SAL_FULL) +\n",
      "PH_D + GRADUAT + NUM_FULL, data = univ.data.priv)\n",
      "print(summary(fit1))\n"
     ],
     "language": "python",
     "metadata": {},
     "outputs": [
      {
       "metadata": {},
       "output_type": "display_data",
       "text": [
        "\n",
        "Call:\n",
        "lm(formula = NEW10 ~ AVRCOMB + FULLTIME + log(IN_STATE) + log(ROOM) + \n",
        "    log(ADD_FEE) + log(SAL_FULL) + PH_D + GRADUAT + NUM_FULL, \n",
        "    data = univ.data.priv)\n",
        "\n",
        "Residuals:\n",
        "    Min      1Q  Median      3Q     Max \n",
        "-6.4902 -2.8873 -0.0423  3.4389  5.7391 \n",
        "\n",
        "Coefficients:\n",
        "                Estimate Std. Error t value Pr(>|t|)  \n",
        "(Intercept)   -3.093e+02  2.218e+02  -1.394   0.2059  \n",
        "AVRCOMB        1.783e-01  5.660e-02   3.151   0.0161 *\n",
        "FULLTIME       1.888e-03  7.455e-04   2.533   0.0390 *\n",
        "log(IN_STATE)  1.422e+01  1.066e+01   1.334   0.2240  \n",
        "log(ROOM)      9.560e+00  1.151e+01   0.831   0.4336  \n",
        "log(ADD_FEE)   4.243e+00  2.696e+00   1.574   0.1595  \n",
        "log(SAL_FULL) -1.689e+01  3.165e+01  -0.534   0.6101  \n",
        "PH_D          -2.557e-01  6.256e-01  -0.409   0.6949  \n",
        "GRADUAT        5.647e-01  4.513e-01   1.251   0.2511  \n",
        "NUM_FULL      -1.870e-02  2.214e-02  -0.845   0.4262  \n",
        "---\n",
        "Signif. codes:  0 \u2018***\u2019 0.001 \u2018**\u2019 0.01 \u2018*\u2019 0.05 \u2018.\u2019 0.1 \u2018 \u2019 1\n",
        "\n",
        "Residual standard error: 5.926 on 7 degrees of freedom\n",
        "Multiple R-squared:  0.9818,\tAdjusted R-squared:  0.9585 \n",
        "F-statistic: 42.03 on 9 and 7 DF,  p-value: 2.865e-05\n",
        "\n"
       ]
      }
     ],
     "prompt_number": 15
    },
    {
     "cell_type": "markdown",
     "metadata": {},
     "source": [
      "\u0421\u0440\u0430\u0437\u0443 \u0432\u0438\u0434\u043d\u043e \u043e\u0442\u043b\u0438\u0447\u0438\u0435 \u0447\u0430\u0441\u0442\u043d\u044b\u0445 \u043e\u0442 \u0433\u043e\u0441\u0443\u0434\u0430\u0440\u0441\u0442\u0432\u0435\u043d\u043d\u044b\u0445. \u0421\u0442\u0443\u0434\u0435\u043d\u0442\u044b \u0438\u0434\u0443\u0442 \u0432 \u0434\u043e\u0440\u043e\u0433\u0438\u0435 \u0443\u043d\u0438\u0432\u0435\u0440\u0441\u0438\u0442\u0435\u0442\u044b. \n",
      "\n",
      "\u0425\u043e\u0442\u044f, \u043a\u0430\u043a \u0438 \u0432 \u0430\u043d\u0430\u043b\u0438\u0437\u0435 \u043d\u0430 \u043f\u0430\u0440\u0435 \u043d\u0430\u043c \u043d\u0443\u0436\u043d\u043e \u0432\u044b\u043a\u0438\u043d\u0443\u0442\u044c AVRCOMB \u043f\u043e \u043f\u043e\u043d\u044f\u0442\u043d\u044b\u043c \u0441\u043e\u043e\u0431\u0440\u0430\u0436\u0435\u043d\u0438\u044f\u043c."
     ]
    },
    {
     "cell_type": "code",
     "collapsed": false,
     "input": [
      "%%R\n",
      "fit2 <- lm(NEW10 ~ FULLTIME + log(IN_STATE) +\n",
      "log(ROOM) + log(ADD_FEE) + log(SAL_FULL) +\n",
      "PH_D + GRADUAT + NUM_FULL, data = univ.data.priv)\n",
      "print(summary(fit2))"
     ],
     "language": "python",
     "metadata": {},
     "outputs": [
      {
       "metadata": {},
       "output_type": "display_data",
       "text": [
        "\n",
        "Call:\n",
        "lm(formula = NEW10 ~ FULLTIME + log(IN_STATE) + log(ROOM) + log(ADD_FEE) + \n",
        "    log(SAL_FULL) + PH_D + GRADUAT + NUM_FULL, data = univ.data.priv)\n",
        "\n",
        "Residuals:\n",
        "    Min      1Q  Median      3Q     Max \n",
        "-9.2380 -6.6540  0.3986  4.1528 11.5618 \n",
        "\n",
        "Coefficients:\n",
        "                Estimate Std. Error t value Pr(>|t|)   \n",
        "(Intercept)   -1.303e+02  3.119e+02  -0.418  0.68707   \n",
        "FULLTIME       1.465e-03  1.067e-03   1.373  0.20686   \n",
        "log(IN_STATE)  3.873e+01  1.061e+01   3.649  0.00650 **\n",
        "log(ROOM)     -1.840e+01  1.066e+01  -1.727  0.12249   \n",
        "log(ADD_FEE)   4.442e+00  3.920e+00   1.133  0.28997   \n",
        "log(SAL_FULL) -1.917e+01  4.602e+01  -0.417  0.68788   \n",
        "PH_D          -9.221e-01  8.564e-01  -1.077  0.31296   \n",
        "GRADUAT        1.660e+00  4.186e-01   3.966  0.00414 **\n",
        "NUM_FULL       1.761e-02  2.749e-02   0.641  0.53965   \n",
        "---\n",
        "Signif. codes:  0 \u2018***\u2019 0.001 \u2018**\u2019 0.01 \u2018*\u2019 0.05 \u2018.\u2019 0.1 \u2018 \u2019 1\n",
        "\n",
        "Residual standard error: 8.62 on 8 degrees of freedom\n",
        "Multiple R-squared:  0.9561,\tAdjusted R-squared:  0.9121 \n",
        "F-statistic: 21.76 on 8 and 8 DF,  p-value: 0.0001171\n",
        "\n"
       ]
      }
     ],
     "prompt_number": 16
    },
    {
     "cell_type": "markdown",
     "metadata": {},
     "source": [
      "\u041f\u043e\u0441\u0442\u0443\u043f\u0430\u044e\u0442 \u0442\u0443\u0434\u0430 \u0433\u0434\u0435 \u0434\u043e\u0440\u043e\u0436\u0435 \u0438 \u0433\u0434\u0435 \u0431\u043e\u043b\u044c\u0448\u0435 \u0437\u0430\u043a\u043e\u043d\u0447\u0438\u0432\u0448\u0438\u0445.\n",
      "\n",
      "\u041f\u043e\u043f\u0440\u043e\u0431\u0443\u0435\u043c \u0442\u043e\u0436\u0435 \u043f\u043e\u0438\u0433\u0440\u0430\u0442\u044c\u0441\u044f \u0441 \u043c\u043e\u0434\u0435\u043b\u044c\u043a\u0430\u043c\u0438, \u0432\u044b\u043a\u0438\u0434\u044b\u0432\u0430\u044f \u043f\u0440\u0438\u0437\u043d\u0430\u043a\u0438.\n"
     ]
    },
    {
     "cell_type": "code",
     "collapsed": false,
     "input": [
      "%%R\n",
      "fit2.manual <- lm(NEW10 ~ log(IN_STATE) + GRADUAT, data = univ.data.priv)\n",
      "print(summary(fit2.manual))"
     ],
     "language": "python",
     "metadata": {},
     "outputs": [
      {
       "metadata": {},
       "output_type": "display_data",
       "text": [
        "\n",
        "Call:\n",
        "lm(formula = NEW10 ~ log(IN_STATE) + GRADUAT, data = univ.data.priv)\n",
        "\n",
        "Residuals:\n",
        "    Min      1Q  Median      3Q     Max \n",
        "-24.098  -4.808   2.553   6.623  15.070 \n",
        "\n",
        "Coefficients:\n",
        "               Estimate Std. Error t value Pr(>|t|)    \n",
        "(Intercept)   -264.1345    67.1865  -3.931  0.00151 ** \n",
        "log(IN_STATE)   21.7211     7.5147   2.890  0.01186 *  \n",
        "GRADUAT          1.3813     0.1851   7.464 3.04e-06 ***\n",
        "---\n",
        "Signif. codes:  0 \u2018***\u2019 0.001 \u2018**\u2019 0.01 \u2018*\u2019 0.05 \u2018.\u2019 0.1 \u2018 \u2019 1\n",
        "\n",
        "Residual standard error: 10.76 on 14 degrees of freedom\n",
        "Multiple R-squared:  0.8801,\tAdjusted R-squared:  0.863 \n",
        "F-statistic: 51.39 on 2 and 14 DF,  p-value: 3.56e-07\n",
        "\n"
       ]
      }
     ],
     "prompt_number": 17
    },
    {
     "cell_type": "code",
     "collapsed": false,
     "input": [
      "%%R\n",
      "fit2.aic <- stepAIC(fit2)\n",
      "print(summary(fit2.aic))"
     ],
     "language": "python",
     "metadata": {},
     "outputs": [
      {
       "metadata": {},
       "output_type": "display_data",
       "text": [
        "Start:  AIC=78.43\n",
        "NEW10 ~ FULLTIME + log(IN_STATE) + log(ROOM) + log(ADD_FEE) + \n",
        "    log(SAL_FULL) + PH_D + GRADUAT + NUM_FULL\n",
        "\n",
        "                Df Sum of Sq     RSS    AIC\n",
        "- log(SAL_FULL)  1     12.90  607.35 76.790\n",
        "- NUM_FULL       1     30.50  624.95 77.276\n",
        "<none>                        594.45 78.425\n",
        "- PH_D           1     86.16  680.61 78.726\n",
        "- log(ADD_FEE)   1     95.41  689.86 78.956\n",
        "- FULLTIME       1    140.18  734.63 80.025\n",
        "- log(ROOM)      1    221.55  816.00 81.810\n",
        "- log(IN_STATE)  1    989.68 1584.13 93.088\n",
        "- GRADUAT        1   1168.92 1763.37 94.910\n",
        "\n",
        "Step:  AIC=76.79\n",
        "NEW10 ~ FULLTIME + log(IN_STATE) + log(ROOM) + log(ADD_FEE) + \n",
        "    PH_D + GRADUAT + NUM_FULL\n",
        "\n",
        "                Df Sum of Sq     RSS    AIC\n",
        "- NUM_FULL       1     18.27  625.63 75.294\n",
        "- PH_D           1     74.16  681.51 76.749\n",
        "<none>                        607.35 76.790\n",
        "- log(ADD_FEE)   1     85.43  692.79 77.028\n",
        "- FULLTIME       1    133.08  740.44 78.158\n",
        "- log(ROOM)      1    213.36  820.71 79.908\n",
        "- log(IN_STATE)  1   1185.44 1792.79 93.191\n",
        "- GRADUAT        1   1702.80 2310.15 97.502\n",
        "\n",
        "Step:  AIC=75.29\n",
        "NEW10 ~ FULLTIME + log(IN_STATE) + log(ROOM) + log(ADD_FEE) + \n",
        "    PH_D + GRADUAT\n",
        "\n",
        "                Df Sum of Sq     RSS    AIC\n",
        "<none>                        625.63 75.294\n",
        "- PH_D           1     85.83  711.45 75.480\n",
        "- log(ADD_FEE)   1    197.08  822.70 77.949\n",
        "- log(ROOM)      1    219.19  844.81 78.400\n",
        "- FULLTIME       1    376.78 1002.41 81.308\n",
        "- log(IN_STATE)  1   1562.62 2188.24 94.580\n",
        "- GRADUAT        1   2220.89 2846.52 99.051\n",
        "\n",
        "Call:\n",
        "lm(formula = NEW10 ~ FULLTIME + log(IN_STATE) + log(ROOM) + log(ADD_FEE) + \n",
        "    PH_D + GRADUAT, data = univ.data.priv)\n",
        "\n",
        "Residuals:\n",
        "     Min       1Q   Median       3Q      Max \n",
        "-10.2819  -5.0805   0.6409   3.5257  13.9833 \n",
        "\n",
        "Coefficients:\n",
        "                Estimate Std. Error t value Pr(>|t|)    \n",
        "(Intercept)   -2.744e+02  8.935e+01  -3.071 0.011817 *  \n",
        "FULLTIME       1.773e-03  7.224e-04   2.454 0.034020 *  \n",
        "log(IN_STATE)  3.831e+01  7.665e+00   4.998 0.000539 ***\n",
        "log(ROOM)     -1.694e+01  9.052e+00  -1.872 0.090744 .  \n",
        "log(ADD_FEE)   5.188e+00  2.923e+00   1.775 0.106313    \n",
        "PH_D          -8.018e-01  6.845e-01  -1.171 0.268638    \n",
        "GRADUAT        1.615e+00  2.711e-01   5.958 0.000140 ***\n",
        "---\n",
        "Signif. codes:  0 \u2018***\u2019 0.001 \u2018**\u2019 0.01 \u2018*\u2019 0.05 \u2018.\u2019 0.1 \u2018 \u2019 1\n",
        "\n",
        "Residual standard error: 7.91 on 10 degrees of freedom\n",
        "Multiple R-squared:  0.9538,\tAdjusted R-squared:  0.926 \n",
        "F-statistic: 34.38 on 6 and 10 DF,  p-value: 4.102e-06\n",
        "\n"
       ]
      }
     ],
     "prompt_number": 18
    },
    {
     "cell_type": "markdown",
     "metadata": {},
     "source": [
      "\u042f \u0434\u043e\u0432\u043e\u043b\u044c\u043d\u043e \u0440\u0435\u0448\u0438\u0442\u0435\u043b\u044c\u043d\u043e \u0432\u044b\u043a\u0438\u043d\u0443\u043b \u0432\u0441\u0435 \u043f\u0440\u0438\u0437\u043d\u0430\u043a\u0438, \u043a\u043e\u0442\u043e\u0440\u044b\u0435 \u043c\u043d\u0435 \u043d\u0435 \u043d\u0440\u0430\u0432\u044f\u0442\u0441\u044f. \u0410 \u0432\u043e\u0442 \u0410\u043a\u0430\u0438\u043a\u0435 \u043f\u0440\u0435\u0434\u043b\u043e\u0436\u0438\u043b \u0443\u0447\u0435\u0441\u0442\u044c \u0435\u0449\u0435 \u043d\u0435\u0441\u043a\u043e\u043b\u044c\u043a\u043e \u0441\u0442\u0430\u0442\u0435\u0439 \u0440\u0430\u0441\u0445\u043e\u0434\u043e\u0432, \u043f\u0440\u0435\u043f\u043e\u0434\u0430\u0432\u0430\u0442\u0435\u043b\u044c\u0441\u043a\u0438\u0439 \u0441\u043e\u0441\u0442\u0430\u0432 \u0438 FULLTIME (\u043e\u0442\u043b\u0438\u0447\u043d\u0438\u043a\u0438 \u0438\u0434\u0443\u0442 \u0432 \u0447\u0430\u0441\u0442\u043d\u044b\u0435 \u0432\u0443\u0437\u044b \u043d\u0430 \u043e\u0447\u043a\u0443)."
     ]
    },
    {
     "cell_type": "code",
     "collapsed": false,
     "input": [
      "%%R\n",
      "print(AIC(fit2.manual, fit2.aic))\n"
     ],
     "language": "python",
     "metadata": {},
     "outputs": [
      {
       "metadata": {},
       "output_type": "display_data",
       "text": [
        "            df      AIC\n",
        "fit2.manual  4 133.7354\n",
        "fit2.aic     8 125.5381\n"
       ]
      }
     ],
     "prompt_number": 19
    },
    {
     "cell_type": "markdown",
     "metadata": {},
     "source": [
      "\u0410\u043a\u0430\u0438\u043a\u0435 \u0441\u0430\u043c \u0441\u0435\u0431\u044f \u043d\u0435 \u043e\u0431\u0438\u0436\u0430\u0435\u0442. \u0421\u0447\u0438\u0442\u0430\u0435\u0442 \u043c\u043e\u044e \u043c\u043e\u0434\u0435\u043b\u044c \u0441\u043b\u0438\u0448\u043a\u043e\u043c \u0433\u0440\u0443\u0431\u043e\u0439.\n"
     ]
    },
    {
     "cell_type": "code",
     "collapsed": false,
     "input": [
      "%%R\n",
      "print(anova(fit2.manual, fit2.aic))"
     ],
     "language": "python",
     "metadata": {},
     "outputs": [
      {
       "metadata": {},
       "output_type": "display_data",
       "text": [
        "Analysis of Variance Table\n",
        "\n",
        "Model 1: NEW10 ~ log(IN_STATE) + GRADUAT\n",
        "Model 2: NEW10 ~ FULLTIME + log(IN_STATE) + log(ROOM) + log(ADD_FEE) + \n",
        "    PH_D + GRADUAT\n",
        "  Res.Df     RSS Df Sum of Sq      F  Pr(>F)  \n",
        "1     14 1622.19                              \n",
        "2     10  625.63  4    996.57 3.9823 0.03474 *\n",
        "---\n",
        "Signif. codes:  0 \u2018***\u2019 0.001 \u2018**\u2019 0.01 \u2018*\u2019 0.05 \u2018.\u2019 0.1 \u2018 \u2019 1\n"
       ]
      }
     ],
     "prompt_number": 20
    },
    {
     "cell_type": "markdown",
     "metadata": {},
     "source": [
      "\u0425\u043e\u0440\u043e\u0448\u043e, \u0441\u0434\u0430\u044e\u0441\u044c. \u041f\u043e\u0434\u043d\u0438\u043c\u0430\u044e \u043b\u0430\u043f\u043a\u0438 \u0438 \u043f\u0440\u0438\u0437\u043d\u0430\u044e, \u0447\u0442\u043e \u044f \u0437\u0430\u0433\u0440\u0443\u0431\u0438\u043b. \u041d\u0430\u0432\u0435\u0440\u043d\u043e\u0435, \u043d\u0430\u0434\u043e \u0431\u044b\u043b\u043e \u043e\u0441\u0442\u0430\u0432\u0438\u0442\u044c \u0445\u043e\u0442\u044f \u0431\u044b \u043f\u043b\u0430\u0442\u0443 \u0437\u0430 \u043a\u043e\u043c\u043d\u0430\u0442\u0443.\n",
      "\n",
      "\u0414\u0430\u0432\u0430\u0439\u0442\u0435 \u043f\u043e\u0441\u043c\u043e\u0442\u0440\u0438\u043c \u043d\u0430 \u043a\u043e\u0440\u0440\u0435\u043b\u044f\u0446\u0438\u044e, \u0447\u0442\u043e\u0431\u044b \u0431\u044b\u043b\u043e \u0441\u043e\u0432\u0441\u0435\u043c \u043a\u0430\u043a \u043d\u0430 \u043f\u0430\u0440\u0435."
     ]
    },
    {
     "cell_type": "code",
     "collapsed": false,
     "input": [
      "%%R\n",
      "print(cor(fit2.aic$model))\n",
      "print(levelplot(cor(fit2.aic$model)^2, par.settings = list(regions = list(col = colorRampPalette(grey(1:0)))),\n",
      "scales = list(x = list(rot = 90)), xlab = \"\",\n",
      "ylab = \"\"))"
     ],
     "language": "python",
     "metadata": {},
     "outputs": [
      {
       "metadata": {},
       "output_type": "display_data",
       "text": [
        "                   NEW10    FULLTIME log(IN_STATE)  log(ROOM) log(ADD_FEE)\n",
        "NEW10          1.0000000 -0.33634965    0.63484053 -0.1857347   0.23064995\n",
        "FULLTIME      -0.3363497  1.00000000   -0.58970391 -0.1931790   0.06553331\n",
        "log(IN_STATE)  0.6348405 -0.58970391    1.00000000  0.2792614   0.01595855\n",
        "log(ROOM)     -0.1857347 -0.19317898    0.27926136  1.0000000  -0.21111007\n",
        "log(ADD_FEE)   0.2306500  0.06553331    0.01595855 -0.2111101   1.00000000\n",
        "PH_D           0.8489691 -0.44684622    0.58529296 -0.1578789   0.19900535\n",
        "GRADUAT        0.8992038 -0.40989151    0.43869077 -0.1650761   0.09924943\n",
        "                    PH_D     GRADUAT\n",
        "NEW10          0.8489691  0.89920383\n",
        "FULLTIME      -0.4468462 -0.40989151\n",
        "log(IN_STATE)  0.5852930  0.43869077\n",
        "log(ROOM)     -0.1578789 -0.16507612\n",
        "log(ADD_FEE)   0.1990054  0.09924943\n",
        "PH_D           1.0000000  0.88113595\n",
        "GRADUAT        0.8811359  1.00000000\n"
       ]
      },
      {
       "metadata": {},
       "output_type": "display_data",
       "png": "[encoded data removed]"
      }
     ],
     "prompt_number": 21
    },
    {
     "cell_type": "markdown",
     "metadata": {},
     "source": [
      "\u0423 \u043c\u0435\u043d\u044f PH_D \u0441\u0438\u043b\u044c\u043d\u043e \u043a\u043e\u0440\u0440\u0435\u043b\u0438\u0440\u0443\u0435\u0442 \u0441 \u0432\u044b\u043f\u0443\u0441\u043a\u043d\u0438\u043a\u0430\u043c\u0438 (\u043c\u043e\u0436\u0435\u043c \u0438\u043c \u043d\u0435 \u043d\u0430\u0439\u0442\u0438 \u043d\u043e\u0440\u043c\u0430\u043b\u044c\u043d\u043e\u0439 \u0440\u0430\u0431\u043e\u0442\u044b \u0438 \u043e\u043d\u0438 \u0438\u0434\u0443\u0442 \u043f\u0440\u0435\u043f\u043e\u0434\u0430\u0432\u0430\u0442\u044c?) \u043f\u0440\u0438\u044d\u0442\u043e\u043c \u0437\u043d\u0430\u0447\u0438\u043c\u043e\u0441\u0442\u044c \u0443 \u043d\u0438\u0445 \u043d\u0438\u043a\u0430\u043a\u0443\u0449\u0430\u044f.\n"
     ]
    },
    {
     "cell_type": "code",
     "collapsed": false,
     "input": [
      "%%R\n",
      "l <- update(fit2.aic, . ~ . - PH_D)\n",
      "library(e1071)\n",
      "print(tune(lm, fit2.aic$call$formula, data = univ.data.priv,\n",
      "tunecontrol = tune.control(sampling = \"cross\",\n",
      "cross = 15)))\n",
      "print(tune(lm, l$call$formula, data = univ.data.priv,\n",
      "tunecontrol = tune.control(sampling = \"cross\",\n",
      "cross = 15)))"
     ],
     "language": "python",
     "metadata": {},
     "outputs": [
      {
       "metadata": {},
       "output_type": "display_data",
       "text": [
        "\n",
        "Error estimation of \u2018lm\u2019 using 15-fold cross validation: 515.6141\n",
        "\n",
        "\n",
        "Error estimation of \u2018lm\u2019 using 15-fold cross validation: 185.1764\n",
        "\n"
       ]
      }
     ],
     "prompt_number": 22
    },
    {
     "cell_type": "markdown",
     "metadata": {},
     "source": [
      "\u0412\u044b\u0432\u043e\u0434 --- \u0432\u044b\u043a\u0438\u043d\u0443\u043b \u0438 \u043f\u0440\u0430\u0432\u0438\u043b\u044c\u043d\u043e \u0441\u0434\u0435\u043b\u0430\u043b!\n",
      "\n",
      "\u042f \u0432\u0435\u0440\u044e, \u0432 \u0442\u043e, \u0447\u0442\u043e \u043b\u043e\u0433\u0430\u0440\u0438\u0444\u043c\u0438\u0440\u043e\u0432\u0430\u0442\u044c \u0434\u0435\u043d\u0435\u0436\u043d\u044b\u0435 \u043f\u043e\u043a\u0430\u0437\u0430\u0442\u0435\u043b\u0438 \u043d\u0443\u0436\u043d\u043e \u0431\u044b\u043b\u043e, \u043d\u043e \u0445\u043e\u0447\u0435\u0442\u0441\u044f \u043f\u0440\u043e\u0432\u0435\u0440\u0438\u0442\u044c IN_STATE. \u0412\u043e\u0437\u043c\u043e\u0436\u043d\u043e \u0435\u043c\u0443 \u044d\u0442\u043e \u0442\u043e\u043b\u044c\u043a\u043e \u043f\u043e\u0432\u0440\u0435\u0434\u0438\u043b\u043e."
     ]
    },
    {
     "cell_type": "code",
     "collapsed": false,
     "input": [
      "%%R\n",
      "fit.nolog <- lm(NEW10 ~ FULLTIME + IN_STATE +\n",
      "log(ROOM) + log(ADD_FEE) + GRADUAT, data = univ.data.priv)\n",
      "print(summary(fit.nolog))"
     ],
     "language": "python",
     "metadata": {},
     "outputs": [
      {
       "metadata": {},
       "output_type": "display_data",
       "text": [
        "\n",
        "Call:\n",
        "lm(formula = NEW10 ~ FULLTIME + IN_STATE + log(ROOM) + log(ADD_FEE) + \n",
        "    GRADUAT, data = univ.data.priv)\n",
        "\n",
        "Residuals:\n",
        "     Min       1Q   Median       3Q      Max \n",
        "-12.3273  -2.4433   0.0466   4.5208   9.2452 \n",
        "\n",
        "Coefficients:\n",
        "               Estimate Std. Error t value Pr(>|t|)    \n",
        "(Intercept)  -5.894e+01  7.446e+01  -0.792 0.445370    \n",
        "FULLTIME      1.616e-03  6.674e-04   2.421 0.033972 *  \n",
        "IN_STATE      3.620e-03  6.580e-04   5.502 0.000186 ***\n",
        "log(ROOM)    -9.118e+00  8.087e+00  -1.128 0.283519    \n",
        "log(ADD_FEE)  4.473e+00  2.679e+00   1.669 0.123221    \n",
        "GRADUAT       1.177e+00  1.533e-01   7.679 9.62e-06 ***\n",
        "---\n",
        "Signif. codes:  0 \u2018***\u2019 0.001 \u2018**\u2019 0.01 \u2018*\u2019 0.05 \u2018.\u2019 0.1 \u2018 \u2019 1\n",
        "\n",
        "Residual standard error: 7.484 on 11 degrees of freedom\n",
        "Multiple R-squared:  0.9545,\tAdjusted R-squared:  0.9338 \n",
        "F-statistic: 46.11 on 5 and 11 DF,  p-value: 5.188e-07\n",
        "\n"
       ]
      }
     ],
     "prompt_number": 23
    },
    {
     "cell_type": "code",
     "collapsed": false,
     "input": [
      "%R print(AIC(fit.nolog, l))\n"
     ],
     "language": "python",
     "metadata": {},
     "outputs": [
      {
       "metadata": {},
       "output_type": "display_data",
       "text": [
        "          df      AIC\n",
        "fit.nolog  7 123.2790\n",
        "l          7 125.7236\n"
       ]
      }
     ],
     "prompt_number": 24
    },
    {
     "cell_type": "markdown",
     "metadata": {},
     "source": [
      "\u0412\u0441\u0435-\u0442\u0430\u043a\u0438 \u0437\u0440\u044f \u043b\u043e\u0433\u0430\u0440\u0438\u0444\u043c\u0438\u0440\u043e\u0432\u0430\u043b. \u0411\u0435\u0437 \u043d\u0435\u0433\u043e \u043d\u0435\u043c\u043d\u043e\u0433\u043e \u043b\u0443\u0447\u0448\u0435.\n",
      "\n",
      "*\u0412\u044b\u0432\u043e\u0434\u044b.* \n",
      "\n",
      "\u041e\u0442\u043b\u0438\u0447\u043d\u0438\u043a\u0438 \u0438\u0434\u0443\u0442 \u0432 \u0434\u043e\u0440\u043e\u0433\u0438\u0435 \u0443\u043d\u0438\u0432\u0435\u0440\u0441\u0438\u0442\u0435\u0442\u044b, \u043d\u043e \u043f\u0440\u0438 \u044d\u0442\u043e\u043c \u0441\u0442\u0430\u0440\u0430\u044e\u0442\u0441\u044f \u044d\u043a\u043e\u043d\u043e\u043c\u0438\u0442\u044c \u043d\u0430 \u0431\u044b\u0442\u043e\u0432\u044b\u0445 \u0443\u0441\u043b\u043e\u0432\u0438\u044f\u0445. \u0427\u0442\u043e \u0438 \u043f\u043e\u043d\u044f\u0442\u043d\u043e, \u043e\u043d\u0438 \u043c\u043d\u043e\u0433\u043e \u043f\u043b\u0430\u0442\u044f\u0442 \u043a\u0430\u043a \u0437\u0430 \u043e\u0431\u0443\u0447\u0435\u043d\u0438\u0435, \u0442\u0430\u043a \u0438 \u0437\u0430 \u0432\u0441\u044f\u043a\u0438\u0435 \u0434\u043e\u043f\u043e\u043b\u043d\u0438\u0442\u0435\u043b\u044c\u043d\u044b\u0435 \u0448\u0442\u0443\u043a\u0438. \u0415\u0449\u0435 \u043e\u043d\u0438 \u0438\u0434\u0443\u0442 \u0442\u0443\u0434\u0430 \u0433\u0434\u0435 FULLTIME, \u0442.\u043a. \u0438\u0434\u0443\u0442 \u0443\u0447\u0438\u0442\u044c\u0441\u044f, \u0430 \u043d\u0435 \u043f\u043e\u0434\u0440\u0430\u0431\u0430\u0442\u044b\u0432\u0430\u0442\u044c. \u0415\u0449\u0435 \u043e\u043d\u0438 \u0441\u043c\u043e\u0442\u0440\u044f\u0442 \u043d\u0430 \u043a\u043e\u043b\u0438\u0447\u0435\u0441\u0442\u0432\u043e \u0432\u044b\u043f\u0443\u0441\u0442\u0438\u0432\u0448\u0438\u0445\u0441\u044f. \n",
      "\n",
      "\u0412 \u0433\u043e\u0441\u0443\u0434\u0430\u0440\u0441\u0442\u0432\u0435\u043d\u043d\u044b\u0445 \u0432 \u044d\u0442\u043e \u0432\u0440\u0435\u043c\u044f \u043e\u0442\u043b\u0438\u0447\u043d\u0438\u043a\u0438 \u0438\u0434\u0443\u0442 \u0442\u0443\u0434\u0430 \u0433\u0434\u0435 \u043f\u043e\u0434\u0435\u0448\u0435\u0432\u043b\u0435 \u0438 \u0433\u0434\u0435 \u043c\u043d\u043e\u0433\u043e \u0437\u0430\u043a\u043e\u043d\u0447\u0438\u0432\u0448\u0438\u0445. \u0422.\u0435. \u043b\u0438\u0448\u044c \u0431\u044b \u043a\u043e\u0440\u043e\u0447\u043a\u0443 \u043f\u043e\u043b\u0443\u0447\u0438\u0442\u044c \u0438 \u043d\u0435 \u0434\u0443\u043c\u0430\u0442\u044c \u0431\u043e\u043b\u044c\u0448\u0435 \u043d\u0435 \u043e \u0447\u0435\u043c. \u0415\u0449\u0435 \u0438\u0433\u0440\u0430\u0435\u0442 \u0440\u043e\u043b\u044c \u0447\u0438\u0441\u043b\u043e \u043f\u043e\u043b\u043d\u044b\u0445 \u043f\u0440\u043e\u0444\u0435\u0441\u0441\u043e\u0440\u043e\u0432 (\u043c\u043e\u0436\u0435\u0442 \u044d\u0442\u043e \u043f\u0440\u0438\u0437\u043d\u0430\u043a \u043f\u0440\u0438\u043b\u0438\u0447\u043d\u043e\u0441\u0442\u0438 \u0437\u0430\u0432\u0435\u0434\u0435\u043d\u0438\u044f?).  "
     ]
    },
    {
     "cell_type": "markdown",
     "metadata": {},
     "source": [
      "\u041f\u0440\u043e\u0431\u0443\u044e \u0442\u0435\u043f\u0435\u0440\u044c \u0441\u043e\u0432\u043c\u0435\u0441\u0442\u043d\u0443\u044e \u043c\u043e\u0434\u0435\u043b\u044c. \u0417\u043d\u0430\u0447\u0438\u043c\u0430 \u043b\u0438 \u0440\u0430\u0437\u0438\u043d\u0446\u0430 \u0432 \u0441\u0442\u0430\u0442\u0443\u0441\u0435 \u0443\u043d\u0438\u0432\u0435\u0440\u0441\u0438\u0442\u0435\u0442\u0430?\n"
     ]
    },
    {
     "cell_type": "code",
     "collapsed": false,
     "input": [
      "%%R\n",
      "univ.data$PPIND <- factor(univ.data$PPIND, levels = c('Public', 'Private'))\n",
      "fit.all <- lm(NEW10 ~ (. - AVRCOMB)*PPIND, data = univ.data)\n",
      "fit.all.aic <- stepAIC(fit.all)\n"
     ],
     "language": "python",
     "metadata": {},
     "outputs": [
      {
       "metadata": {},
       "output_type": "display_data",
       "text": [
        "Start:  AIC=279.43\n",
        "NEW10 ~ ((PPIND + AVRCOMB + FULLTIME + IN_STATE + ROOM + ADD_FEE + \n",
        "    PH_D + GRADUAT + SAL_FULL + NUM_FULL) - AVRCOMB) * PPIND\n",
        "\n",
        "                 Df Sum of Sq    RSS    AIC\n",
        "- PPIND:NUM_FULL  1      4.39 4083.9 277.49\n",
        "- PPIND:PH_D      1     18.57 4098.1 277.69\n",
        "- PPIND:SAL_FULL  1     28.17 4107.7 277.82\n",
        "- PPIND:ROOM      1     65.11 4144.6 278.33\n",
        "- PPIND:FULLTIME  1     96.78 4176.3 278.76\n",
        "<none>                        4079.5 279.43\n",
        "- PPIND:GRADUAT   1    232.23 4311.7 280.58\n",
        "- PPIND:ADD_FEE   1    266.09 4345.6 281.03\n",
        "- PPIND:IN_STATE  1   2590.20 6669.7 305.45\n",
        "\n",
        "Step:  AIC=277.49\n",
        "NEW10 ~ PPIND + FULLTIME + IN_STATE + ROOM + ADD_FEE + PH_D + \n",
        "    GRADUAT + SAL_FULL + NUM_FULL + PPIND:FULLTIME + PPIND:IN_STATE + \n",
        "    PPIND:ROOM + PPIND:ADD_FEE + PPIND:PH_D + PPIND:GRADUAT + \n",
        "    PPIND:SAL_FULL\n",
        "\n",
        "                 Df Sum of Sq    RSS    AIC\n",
        "- PPIND:PH_D      1     24.49 4108.4 275.83\n",
        "- PPIND:SAL_FULL  1     60.26 4144.2 276.32\n",
        "- PPIND:ROOM      1     66.93 4150.8 276.42\n",
        "- PPIND:FULLTIME  1    114.12 4198.0 277.06\n",
        "- NUM_FULL        1    116.25 4200.2 277.09\n",
        "<none>                        4083.9 277.49\n",
        "- PPIND:GRADUAT   1    250.93 4334.8 278.89\n",
        "- PPIND:ADD_FEE   1    263.30 4347.2 279.05\n",
        "- PPIND:IN_STATE  1   2586.47 6670.4 303.46\n",
        "\n",
        "Step:  AIC=275.83\n",
        "NEW10 ~ PPIND + FULLTIME + IN_STATE + ROOM + ADD_FEE + PH_D + \n",
        "    GRADUAT + SAL_FULL + NUM_FULL + PPIND:FULLTIME + PPIND:IN_STATE + \n",
        "    PPIND:ROOM + PPIND:ADD_FEE + PPIND:GRADUAT + PPIND:SAL_FULL\n",
        "\n",
        "                 Df Sum of Sq    RSS    AIC\n",
        "- PPIND:SAL_FULL  1     42.10 4150.5 274.41\n",
        "- PPIND:ROOM      1     51.85 4160.2 274.55\n",
        "- PPIND:FULLTIME  1    105.48 4213.9 275.28\n",
        "- NUM_FULL        1    119.45 4227.9 275.46\n",
        "<none>                        4108.4 275.83\n",
        "- PH_D            1    156.71 4265.1 275.96\n",
        "- PPIND:ADD_FEE   1    240.51 4348.9 277.07\n",
        "- PPIND:GRADUAT   1    338.75 4447.1 278.35\n",
        "- PPIND:IN_STATE  1   2725.03 6833.4 302.83\n",
        "\n",
        "Step:  AIC=274.41\n",
        "NEW10 ~ PPIND + FULLTIME + IN_STATE + ROOM + ADD_FEE + PH_D + \n",
        "    GRADUAT + SAL_FULL + NUM_FULL + PPIND:FULLTIME + PPIND:IN_STATE + \n",
        "    PPIND:ROOM + PPIND:ADD_FEE + PPIND:GRADUAT\n",
        "\n",
        "                 Df Sum of Sq    RSS    AIC\n",
        "- PPIND:ROOM      1     46.95 4197.5 273.05\n",
        "- PPIND:FULLTIME  1     72.42 4222.9 273.40\n",
        "- SAL_FULL        1     83.37 4233.9 273.55\n",
        "- NUM_FULL        1    100.39 4250.9 273.77\n",
        "- PH_D            1    125.94 4276.4 274.12\n",
        "<none>                        4150.5 274.41\n",
        "- PPIND:ADD_FEE   1    210.55 4361.0 275.23\n",
        "- PPIND:GRADUAT   1    314.29 4464.8 276.57\n",
        "- PPIND:IN_STATE  1   2760.08 6910.6 301.47\n",
        "\n",
        "Step:  AIC=273.05\n",
        "NEW10 ~ PPIND + FULLTIME + IN_STATE + ROOM + ADD_FEE + PH_D + \n",
        "    GRADUAT + SAL_FULL + NUM_FULL + PPIND:FULLTIME + PPIND:IN_STATE + \n",
        "    PPIND:ADD_FEE + PPIND:GRADUAT\n",
        "\n",
        "                 Df Sum of Sq    RSS    AIC\n",
        "- NUM_FULL        1     82.65 4280.1 272.17\n",
        "- PPIND:FULLTIME  1     96.55 4294.0 272.35\n",
        "- PH_D            1    110.43 4307.9 272.53\n",
        "- ROOM            1    123.13 4320.6 272.70\n",
        "- SAL_FULL        1    143.36 4340.8 272.97\n",
        "<none>                        4197.5 273.05\n",
        "- PPIND:ADD_FEE   1    204.99 4402.4 273.77\n",
        "- PPIND:GRADUAT   1    356.04 4553.5 275.69\n",
        "- PPIND:IN_STATE  1   2713.14 6910.6 299.47\n",
        "\n",
        "Step:  AIC=272.16\n",
        "NEW10 ~ PPIND + FULLTIME + IN_STATE + ROOM + ADD_FEE + PH_D + \n",
        "    GRADUAT + SAL_FULL + PPIND:FULLTIME + PPIND:IN_STATE + PPIND:ADD_FEE + \n",
        "    PPIND:GRADUAT\n",
        "\n",
        "                 Df Sum of Sq    RSS    AIC\n",
        "- PH_D            1     67.06 4347.2 271.05\n",
        "- PPIND:FULLTIME  1     87.87 4368.0 271.32\n",
        "<none>                        4280.1 272.17\n",
        "- ROOM            1    157.00 4437.1 272.22\n",
        "- PPIND:ADD_FEE   1    234.88 4515.0 273.21\n",
        "- SAL_FULL        1    275.58 4555.7 273.72\n",
        "- PPIND:GRADUAT   1    354.33 4634.4 274.70\n",
        "- PPIND:IN_STATE  1   2749.76 7029.9 298.45\n",
        "\n",
        "Step:  AIC=271.05\n",
        "NEW10 ~ PPIND + FULLTIME + IN_STATE + ROOM + ADD_FEE + GRADUAT + \n",
        "    SAL_FULL + PPIND:FULLTIME + PPIND:IN_STATE + PPIND:ADD_FEE + \n",
        "    PPIND:GRADUAT\n",
        "\n",
        "                 Df Sum of Sq    RSS    AIC\n",
        "- PPIND:FULLTIME  1     96.33 4443.5 270.30\n",
        "- ROOM            1    151.53 4498.7 271.00\n",
        "<none>                        4347.2 271.05\n",
        "- PPIND:ADD_FEE   1    212.13 4559.3 271.77\n",
        "- SAL_FULL        1    254.73 4601.9 272.30\n",
        "- PPIND:GRADUAT   1    301.79 4649.0 272.88\n",
        "- PPIND:IN_STATE  1   2685.50 7032.7 296.47\n",
        "\n",
        "Step:  AIC=270.3\n",
        "NEW10 ~ PPIND + FULLTIME + IN_STATE + ROOM + ADD_FEE + GRADUAT + \n",
        "    SAL_FULL + PPIND:IN_STATE + PPIND:ADD_FEE + PPIND:GRADUAT\n",
        "\n",
        "                 Df Sum of Sq    RSS    AIC\n",
        "- FULLTIME        1    155.16 4598.7 270.26\n",
        "<none>                        4443.5 270.30\n",
        "- ROOM            1    180.32 4623.8 270.57\n",
        "- PPIND:ADD_FEE   1    247.19 4690.7 271.39\n",
        "- PPIND:GRADUAT   1    272.06 4715.5 271.69\n",
        "- SAL_FULL        1    304.88 4748.4 272.08\n",
        "- PPIND:IN_STATE  1   2607.60 7051.1 294.62\n",
        "\n",
        "Step:  AIC=270.26\n",
        "NEW10 ~ PPIND + IN_STATE + ROOM + ADD_FEE + GRADUAT + SAL_FULL + \n",
        "    PPIND:IN_STATE + PPIND:ADD_FEE + PPIND:GRADUAT\n",
        "\n",
        "                 Df Sum of Sq    RSS    AIC\n",
        "<none>                        4598.7 270.26\n",
        "- PPIND:GRADUAT   1    213.42 4812.1 270.84\n",
        "- PPIND:ADD_FEE   1    270.42 4869.1 271.51\n",
        "- ROOM            1    300.65 4899.3 271.87\n",
        "- SAL_FULL        1    547.55 5146.2 274.67\n",
        "- PPIND:IN_STATE  1   2674.24 7272.9 294.38\n"
       ]
      }
     ],
     "prompt_number": 25
    },
    {
     "cell_type": "code",
     "collapsed": false,
     "input": [
      "%R print(summary(fit.all.aic))"
     ],
     "language": "python",
     "metadata": {},
     "outputs": [
      {
       "metadata": {},
       "output_type": "display_data",
       "text": [
        "\n",
        "Call:\n",
        "lm(formula = NEW10 ~ PPIND + IN_STATE + ROOM + ADD_FEE + GRADUAT + \n",
        "    SAL_FULL + PPIND:IN_STATE + PPIND:ADD_FEE + PPIND:GRADUAT, \n",
        "    data = univ.data)\n",
        "\n",
        "Residuals:\n",
        "    Min      1Q  Median      3Q     Max \n",
        "-28.224  -4.967   1.271   4.931  22.182 \n",
        "\n",
        "Coefficients:\n",
        "                        Estimate Std. Error t value Pr(>|t|)    \n",
        "(Intercept)           -15.901644  12.166225  -1.307 0.197561    \n",
        "PPINDPrivate          -82.064687  15.415739  -5.323 2.80e-06 ***\n",
        "IN_STATE               -0.005496   0.001367  -4.020 0.000209 ***\n",
        "ROOM                   -0.002514   0.001434  -1.753 0.086137 .  \n",
        "ADD_FEE                -0.006058   0.005177  -1.170 0.247835    \n",
        "GRADUAT                 0.646647   0.144281   4.482 4.73e-05 ***\n",
        "SAL_FULL                0.049238   0.020814   2.366 0.022177 *  \n",
        "PPINDPrivate:IN_STATE   0.008110   0.001551   5.228 3.88e-06 ***\n",
        "PPINDPrivate:ADD_FEE    0.013527   0.008137   1.662 0.103074    \n",
        "PPINDPrivate:GRADUAT    0.346545   0.234646   1.477 0.146375    \n",
        "---\n",
        "Signif. codes:  0 \u2018***\u2019 0.001 \u2018**\u2019 0.01 \u2018*\u2019 0.05 \u2018.\u2019 0.1 \u2018 \u2019 1\n",
        "\n",
        "Residual standard error: 9.892 on 47 degrees of freedom\n",
        "Multiple R-squared:  0.8609,\tAdjusted R-squared:  0.8342 \n",
        "F-statistic: 32.31 on 9 and 47 DF,  p-value: < 2.2e-16\n",
        "\n"
       ]
      }
     ],
     "prompt_number": 26
    },
    {
     "cell_type": "markdown",
     "metadata": {},
     "source": [
      "\u0412\u043e\u0442 \u043f\u043e-\u043c\u043e\u0435\u043c\u0443 \u0437\u043d\u0430\u0447\u0438\u043c\u0430 \u0440\u0430\u0437\u043d\u0438\u0446\u0430. \n",
      "\n",
      "\u0421\u0442\u0443\u0434\u0435\u043d\u0442\u044b \u0438\u0434\u0443\u0442 \u0432 \u0434\u043e\u0440\u043e\u0433\u0438\u0435 \u0447\u0430\u0441\u0442\u043d\u044b\u0435 \u0443\u043d\u0438\u0432\u0435\u0440\u044b (PPINDPrivate:IN_STATE) \u0438 \u0432 \u0434\u0435\u0448\u0435\u0432\u044b\u0435 \u0433\u043e\u0441\u0443\u0434\u0430\u0440\u0441\u0442\u0432\u0435\u043d\u043d\u044b\u0435 (IN_STATE). \u0422\u043e\u0447\u043d\u043e \u0442\u0430\u043a \u0436\u0435 \u043d\u0430 \u0432\u044b\u0431\u043e\u0440 \u0432\u043b\u0438\u044f\u044e\u0442 \u0438 \u0434\u043e\u043f\u043e\u043b\u043d\u0438\u0442\u0435\u043b\u044c\u043d\u044b\u0435 \u043f\u043b\u0430\u0442\u0435\u0436\u0438. \u0412 \u043b\u044e\u0431\u043e\u043c \u0441\u043b\u0443\u0447\u0430\u0435 \u0432\u044b\u0431\u0438\u0440\u0430\u0435\u0442\u0441\u044f \u0443\u043d\u0438\u0432\u0435\u0440 \u0441 \u0431\u043e\u043b\u044c\u0448\u0438\u043c \u0447\u0438\u0441\u043b\u043e\u043c \u0432\u044b\u043f\u0443\u0441\u043a\u043d\u0438\u043a\u043e\u0432."
     ]
    },
    {
     "cell_type": "code",
     "collapsed": false,
     "input": [
      "%%R\n",
      "fit1 <- lm(NEW10~PPIND + IN_STATE, data=univ.data)\n",
      "fit2 <- lm(NEW10 ~ PPIND*IN_STATE, data=univ.data)\n",
      "print(summary(fit1))\n",
      "print(summary(fit2))"
     ],
     "language": "python",
     "metadata": {},
     "outputs": [
      {
       "metadata": {},
       "output_type": "display_data",
       "text": [
        "\n",
        "Call:\n",
        "lm(formula = NEW10 ~ PPIND + IN_STATE, data = univ.data)\n",
        "\n",
        "Residuals:\n",
        "    Min      1Q  Median      3Q     Max \n",
        "-33.854 -13.656  -0.387  13.023  50.823 \n",
        "\n",
        "Coefficients:\n",
        "               Estimate Std. Error t value Pr(>|t|)    \n",
        "(Intercept)   2.076e+01  3.776e+00   5.496 1.08e-06 ***\n",
        "PPINDPrivate -2.326e+01  1.442e+01  -1.613 0.112514    \n",
        "IN_STATE      3.913e-03  9.821e-04   3.984 0.000204 ***\n",
        "---\n",
        "Signif. codes:  0 \u2018***\u2019 0.001 \u2018**\u2019 0.01 \u2018*\u2019 0.05 \u2018.\u2019 0.1 \u2018 \u2019 1\n",
        "\n",
        "Residual standard error: 17.75 on 54 degrees of freedom\n",
        "Multiple R-squared:  0.4852,\tAdjusted R-squared:  0.4661 \n",
        "F-statistic: 25.44 on 2 and 54 DF,  p-value: 1.64e-08\n",
        "\n",
        "\n",
        "Call:\n",
        "lm(formula = NEW10 ~ PPIND * IN_STATE, data = univ.data)\n",
        "\n",
        "Residuals:\n",
        "    Min      1Q  Median      3Q     Max \n",
        "-28.907  -9.915  -3.025   8.081  39.548 \n",
        "\n",
        "Coefficients:\n",
        "                        Estimate Std. Error t value Pr(>|t|)    \n",
        "(Intercept)            37.831631   5.591670   6.766 1.07e-08 ***\n",
        "PPINDPrivate          -68.033260  17.396158  -3.911 0.000263 ***\n",
        "IN_STATE               -0.002723   0.001943  -1.402 0.166779    \n",
        "PPINDPrivate:IN_STATE   0.008337   0.002177   3.829 0.000342 ***\n",
        "---\n",
        "Signif. codes:  0 \u2018***\u2019 0.001 \u2018**\u2019 0.01 \u2018*\u2019 0.05 \u2018.\u2019 0.1 \u2018 \u2019 1\n",
        "\n",
        "Residual standard error: 15.86 on 53 degrees of freedom\n",
        "Multiple R-squared:  0.5967,\tAdjusted R-squared:  0.5739 \n",
        "F-statistic: 26.14 on 3 and 53 DF,  p-value: 1.628e-10\n",
        "\n"
       ]
      }
     ],
     "prompt_number": 27
    },
    {
     "cell_type": "code",
     "collapsed": false,
     "input": [
      "%R print(AIC(fit1, fit2))"
     ],
     "language": "python",
     "metadata": {},
     "outputs": [
      {
       "metadata": {},
       "output_type": "display_data",
       "text": [
        "     df      AIC\n",
        "fit1  4 494.5899\n",
        "fit2  5 482.6694\n"
       ]
      }
     ],
     "prompt_number": 29
    },
    {
     "cell_type": "code",
     "collapsed": false,
     "input": [
      "%R print(anova(fit2.manual, fit2.aic))"
     ],
     "language": "python",
     "metadata": {},
     "outputs": [
      {
       "metadata": {},
       "output_type": "display_data",
       "text": [
        "Analysis of Variance Table\n",
        "\n",
        "Model 1: NEW10 ~ log(IN_STATE) + GRADUAT\n",
        "Model 2: NEW10 ~ FULLTIME + log(IN_STATE) + log(ROOM) + log(ADD_FEE) + \n",
        "    PH_D + GRADUAT\n",
        "  Res.Df     RSS Df Sum of Sq      F  Pr(>F)  \n",
        "1     14 1622.19                              \n",
        "2     10  625.63  4    996.57 3.9823 0.03474 *\n",
        "---\n",
        "Signif. codes:  0 \u2018***\u2019 0.001 \u2018**\u2019 0.01 \u2018*\u2019 0.05 \u2018.\u2019 0.1 \u2018 \u2019 1\n"
       ]
      }
     ],
     "prompt_number": 30
    },
    {
     "cell_type": "markdown",
     "metadata": {},
     "source": [
      "\u0421\u0440\u0430\u0432\u043d\u0438\u043b \u0434\u0432\u0435 \u043c\u043e\u0434\u0435\u043b\u0438. \u0412 \u043e\u0431\u043e\u0438\u0445 \u0441\u043b\u0443\u0447\u0430\u044f\u0445 \u0432\u0442\u043e\u0440\u0430\u044f \u043b\u0443\u0447\u0448\u0435. \u041d\u043e \u043c\u043e\u0436\u0435\u0442 \u044d\u0442\u043e \u043f\u0440\u043e\u0441\u0442\u043e \u043f\u043e\u0442\u043e\u043c\u0443, \u0447\u0442\u043e \u0432\u0442\u043e\u0440\u0430\u044f \u0441\u043b\u043e\u0436\u043d\u0435\u0435 \u0430 \u0443 \u043f\u0435\u0440\u0432\u043e\u0439 \u0432\u044b\u0441\u043e\u043a\u0438\u0439 bias. \u042f \u043d\u0435 \u0437\u043d\u0430\u044e \u043a\u0430\u043a \u0438\u0445 \u0441\u0440\u0430\u0432\u043d\u0438\u0432\u0430\u0442\u044c. \u041d"
     ]
    }
   ],
   "metadata": {}
  }
 ]
}