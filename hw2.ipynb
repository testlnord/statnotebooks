{
 "metadata": {
  "name": ""
 },
 "nbformat": 3,
 "nbformat_minor": 0,
 "worksheets": [
  {
   "cells": [
    {
     "cell_type": "heading",
     "level": 1,
     "metadata": {},
     "source": [
      "\u0414\u043e\u043c\u0430\u0448\u043d\u044f\u044f \u0440\u0430\u0431\u043e\u0442\u0430 \u21162"
     ]
    },
    {
     "cell_type": "code",
     "collapsed": false,
     "input": [
      "%pylab inline"
     ],
     "language": "python",
     "metadata": {},
     "outputs": [
      {
       "output_type": "stream",
       "stream": "stdout",
       "text": [
        "Populating the interactive namespace from numpy and matplotlib\n"
       ]
      }
     ],
     "prompt_number": 2
    },
    {
     "cell_type": "code",
     "collapsed": false,
     "input": [
      "%load_ext rmagic"
     ],
     "language": "python",
     "metadata": {},
     "outputs": [],
     "prompt_number": 3
    },
    {
     "cell_type": "heading",
     "level": 3,
     "metadata": {},
     "source": [
      "teengambling"
     ]
    },
    {
     "cell_type": "markdown",
     "metadata": {},
     "source": [
      "\u0414\u043b\u044f \u0434\u0430\u043d\u043d\u044b\u0445 teengambling (\u0441\u043a\u043e\u043b\u044c\u043a\u043e \u0434\u0435\u043d\u0435\u0433 \u043f\u043e\u0434\u0440\u043e\u0441\u0442\u043a\u0438 \u0438\u0437 \u0440\u0430\u0437\u043d\u044b\u0445 \u0441\u043e\u0446\u0438\u0430\u043b\u044c\u043d\u044b\u0445 \u0441\u043b\u043e\u0435\u0432 \u0441\u043f\u0443\u0441\u043a\u0430\u044e\u0442 \u043d\u0430 \u0430\u0437\u0430\u0440\u0442\u043d\u044b\u0435 \u0438\u0433\u0440\u044b) \u043f\u0440\u043e\u0432\u0435\u0441\u0442\u0438 \u0430\u043d\u0430\u043b\u0438\u0437 (\u0430\u043d\u0430\u043b\u043e\u0433\u0438\u0447\u043d\u043e \u0430\u043d\u0430\u043b\u0438\u0437\u0443 \u0434\u043b\u044f\n",
      "toothgrowth) \u0438 \u043e\u043f\u0440\u0435\u0434\u0435\u043b\u0438\u0442\u044c \u0437\u0430\u0432\u0438\u0441\u0438\u043c\u043e\u0441\u0442\u044c \u043c\u0435\u0436\u0434\u0443 \u043f\u043e\u043b\u043e\u043c, \u0434\u043e\u0445\u043e\u0434\u043e\u043c, \u0441\u0442\u0430\u0442\u0443\u0441\u043e\u043c, \u043e\u0431\u0440\u0430\u0437\u043e\u0432\u0430\u043d\u0438\u0435\u043c \u0438 \u0442\u0440\u0430\u0442\u0430\u043c\u0438 \u043d\u0430 \u0438\u0433\u0440\u044b. \u041f\u0440\u043e\u0438\u043d\u0442\u0435\u0440\u043f\u0440\u0435\u0442\u0438\u0440\u043e\u0432\u0430\u0442\u044c \u0440\u0435\u0437\u0443\u043b\u044c\u0442\u0430\u0442. \u0417\u0430\u0432\u0435\u0440\u0448\u0438\u0442\u044c \u0430\u043d\u0430\u043b\u0438\u0437 \u0433\u0440\u0430\u0444\u0438\u043a\u043e\u043c,\n",
      "\u043a\u043e\u0442\u043e\u0440\u044b\u0439 \u043e\u043a\u043e\u043d\u0447\u0430\u0442\u0435\u043b\u044c\u043d\u043e \u043f\u0440\u043e\u044f\u0441\u043d\u0438\u0442 \u043f\u0440\u043e\u0438\u0441\u0445\u043e\u0434\u044f\u0449\u0435\u0435.\n"
     ]
    },
    {
     "cell_type": "code",
     "collapsed": false,
     "input": [
      "%%R\n",
      "tg.data <- read.table('teengambling.txt', header=TRUE)\n",
      "tg.data$sex <- factor(tg.data$sex)\n",
      "print(head(tg.data))"
     ],
     "language": "python",
     "metadata": {},
     "outputs": [
      {
       "metadata": {},
       "output_type": "display_data",
       "text": [
        "  sex status income verbal gamble\n",
        "1   1     51   2.00      8    0.0\n",
        "2   1     28   2.50      8    0.0\n",
        "3   1     37   2.00      6    0.0\n",
        "4   1     28   7.00      4    7.3\n",
        "5   1     65   2.00      8   19.6\n",
        "6   1     61   3.47      6    0.1\n"
       ]
      }
     ],
     "prompt_number": 4
    },
    {
     "cell_type": "markdown",
     "metadata": {},
     "source": [
      "\u041f\u043e\u043f\u0440\u043e\u0431\u0443\u0435\u043c \u0443\u0441\u043f\u043e\u043a\u043e\u0438\u0442\u044c \u0444\u0435\u043c\u0438\u043d\u0438\u0441\u0442\u043e\u043a. \u041f\u0440\u043e\u0432\u0435\u0440\u0438\u043c, \u0435\u0441\u0442\u044c \u043b\u0438 \u0441\u0432\u044f\u0437\u044c \u043c\u0435\u0436\u0434\u0443 \u043f\u043e\u043b\u043e\u043c \u0438 \u0442\u0440\u0430\u0442\u0430\u043c\u0438 \u043d\u0430 \u0430\u0437\u0430\u0440\u0442\u043d\u044b\u0435 \u0438\u0433\u0440\u044b?"
     ]
    },
    {
     "cell_type": "code",
     "collapsed": false,
     "input": [
      "%%R\n",
      "lm.gender <- lm(gamble ~ sex, data=tg.data)\n",
      "print(summary(lm.gender))"
     ],
     "language": "python",
     "metadata": {},
     "outputs": [
      {
       "metadata": {},
       "output_type": "display_data",
       "text": [
        "\n",
        "Call:\n",
        "lm(formula = gamble ~ sex, data = tg.data)\n",
        "\n",
        "Residuals:\n",
        "    Min      1Q  Median      3Q     Max \n",
        "-29.775 -18.325  -3.766   6.334 126.225 \n",
        "\n",
        "Coefficients:\n",
        "            Estimate Std. Error t value Pr(>|t|)    \n",
        "(Intercept)   29.775      5.498   5.415 2.28e-06 ***\n",
        "sex1         -25.909      8.648  -2.996  0.00444 ** \n",
        "---\n",
        "Signif. codes:  0 \u2018***\u2019 0.001 \u2018**\u2019 0.01 \u2018*\u2019 0.05 \u2018.\u2019 0.1 \u2018 \u2019 1\n",
        "\n",
        "Residual standard error: 29.09 on 45 degrees of freedom\n",
        "Multiple R-squared:  0.1663,\tAdjusted R-squared:  0.1478 \n",
        "F-statistic: 8.977 on 1 and 45 DF,  p-value: 0.004437\n",
        "\n"
       ]
      }
     ],
     "prompt_number": 7
    },
    {
     "cell_type": "markdown",
     "metadata": {},
     "source": [
      "\u041a\u0430\u043a \u0432\u0438\u0434\u043d\u043e sex1, \u0442.\u0435. \u0436\u0435\u043d\u0449\u0438\u043d\u044b, \u0442\u0440\u0430\u0442\u044f\u0442 \u043d\u0430 \u0438\u0433\u0440\u044b \u0432 \u0441\u0440\u0435\u0434\u043d\u0435\u043c \u043c\u0435\u043d\u044c\u0448\u0435 \u043c\u0443\u0436\u0447\u0438\u043d. \u041f\u0440\u0438\u0447\u0435\u043c \u0437\u0430\u0432\u0438\u0441\u0438\u043c\u043e\u0441\u0442\u044c \u0442\u0443\u0442 \u0445\u043e\u0440\u043e\u0448\u0430\u044f: $p$ \u043c\u0430\u043b\u0435\u043d\u044c\u043a\u043e\u0435."
     ]
    },
    {
     "cell_type": "markdown",
     "metadata": {},
     "source": [
      "\u0422\u0435\u043f\u0435\u0440\u044c \u043f\u043e\u0441\u043c\u043e\u0442\u0440\u0438\u043c \u043d\u0430 \u0442\u043e, \u043a\u0430\u043a \u0432\u044b\u0433\u043b\u044f\u0434\u0438\u0442 \u043c\u043e\u0434\u0435\u043b\u044c \u043e\u0442 \u0432\u0441\u0435\u0445 \u043f\u0430\u0440\u0430\u043c\u0435\u0442\u0440\u043e\u0432."
     ]
    },
    {
     "cell_type": "code",
     "collapsed": false,
     "input": [
      "%%R\n",
      "lm.all <- lm(gamble ~ . , data = tg.data)\n",
      "print(summary(lm.all))"
     ],
     "language": "python",
     "metadata": {},
     "outputs": [
      {
       "metadata": {},
       "output_type": "display_data",
       "text": [
        "\n",
        "Call:\n",
        "lm(formula = gamble ~ ., data = tg.data)\n",
        "\n",
        "Residuals:\n",
        "    Min      1Q  Median      3Q     Max \n",
        "-51.082 -11.320  -1.451   9.452  94.252 \n",
        "\n",
        "Coefficients:\n",
        "             Estimate Std. Error t value Pr(>|t|)    \n",
        "(Intercept)  22.55565   17.19680   1.312   0.1968    \n",
        "sex1        -22.11833    8.21111  -2.694   0.0101 *  \n",
        "status        0.05223    0.28111   0.186   0.8535    \n",
        "income        4.96198    1.02539   4.839 1.79e-05 ***\n",
        "verbal       -2.95949    2.17215  -1.362   0.1803    \n",
        "---\n",
        "Signif. codes:  0 \u2018***\u2019 0.001 \u2018**\u2019 0.01 \u2018*\u2019 0.05 \u2018.\u2019 0.1 \u2018 \u2019 1\n",
        "\n",
        "Residual standard error: 22.69 on 42 degrees of freedom\n",
        "Multiple R-squared:  0.5267,\tAdjusted R-squared:  0.4816 \n",
        "F-statistic: 11.69 on 4 and 42 DF,  p-value: 1.815e-06\n",
        "\n"
       ]
      }
     ],
     "prompt_number": 9
    },
    {
     "cell_type": "markdown",
     "metadata": {},
     "source": [
      "\u0421\u043a\u043b\u0430\u0434\u044b\u0432\u0430\u0435\u0442\u0441\u044f \u0432\u043f\u0435\u0447\u0430\u0442\u043b\u0435\u043d\u0438\u0435, \u0447\u0442\u043e \u0437\u0430\u0442\u0440\u0430\u0442\u044b \u043d\u0430 \u0430\u0437\u0430\u0440\u0442\u043d\u044b\u0435 \u0438\u0433\u0440\u044b \u0437\u0430\u0432\u0438\u0441\u044f\u0442 \u0442\u043e\u043b\u044c\u043a\u043e \u043e\u0442 \u0434\u043e\u0445\u043e\u0434\u0430 \u0438 \u043f\u043e\u043b\u0430. \u0427\u0435\u043c \u0431\u043e\u043b\u044c\u0448\u0435 \u0447\u0435\u043b\u043e\u0432\u0435\u043a \u0437\u0430\u0440\u0430\u0431\u0430\u0442\u044b\u0432\u0430\u0435\u0442, \u0442\u0435\u043c \u0431\u043e\u043b\u044c\u0448\u0435 \u043e\u043d \u0442\u0440\u0430\u0442\u0438\u0442, \u0430 \u0447\u0435\u043c \u0431\u043e\u043b\u044c\u0448\u0435 \u043e\u043d \u0436\u0435\u043d\u0449\u0438\u043d\u0430 \u0442\u0435\u043c \u043c\u0435\u043d\u044c\u0448\u0435 \u043e\u043d \u0442\u0440\u0430\u0442\u0438\u0442."
     ]
    },
    {
     "cell_type": "code",
     "collapsed": false,
     "input": [
      "%%R \n",
      "lm.bad <- lm(gamble ~ status + verbal, data=tg.data)\n",
      "print(summary(lm.bad))"
     ],
     "language": "python",
     "metadata": {},
     "outputs": [
      {
       "metadata": {},
       "output_type": "display_data",
       "text": [
        "\n",
        "Call:\n",
        "lm(formula = gamble ~ status + verbal, data = tg.data)\n",
        "\n",
        "Residuals:\n",
        "    Min      1Q  Median      3Q     Max \n",
        "-28.162 -17.449 -10.252   1.207 127.626 \n",
        "\n",
        "Coefficients:\n",
        "            Estimate Std. Error t value Pr(>|t|)  \n",
        "(Intercept)  42.0921    17.6245   2.388   0.0213 *\n",
        "status        0.1694     0.3159   0.536   0.5946  \n",
        "verbal       -4.5729     2.9378  -1.557   0.1267  \n",
        "---\n",
        "Signif. codes:  0 \u2018***\u2019 0.001 \u2018**\u2019 0.01 \u2018*\u2019 0.05 \u2018.\u2019 0.1 \u2018 \u2019 1\n",
        "\n",
        "Residual standard error: 31.33 on 44 degrees of freedom\n",
        "Multiple R-squared:  0.0546,\tAdjusted R-squared:  0.01163 \n",
        "F-statistic: 1.271 on 2 and 44 DF,  p-value: 0.2908\n",
        "\n"
       ]
      }
     ],
     "prompt_number": 18
    },
    {
     "cell_type": "markdown",
     "metadata": {},
     "source": [
      "\u0414\u0430\u0436\u0435 \u0435\u0441\u043b\u0438 \u043d\u0430 \u0441\u0442\u0430\u0442\u0443\u0441\u0435 \u0438 \u0432\u0435\u0440\u0431\u0430\u043b\u0438\u043a\u0435 \u043f\u043e\u0441\u0442\u0440\u043e\u0438\u0442\u044c \u043c\u043e\u0434\u0435\u043b\u044c, \u0442\u043e \u0432\u0438\u0434\u043d\u043e, \u0447\u0442\u043e \u043e\u0442 \u043d\u0438\u0445 \u043d\u0438\u0447\u0435\u0433\u043e \u0442\u043e\u043b\u043a\u043e\u043c \u043d\u0435 \u0437\u0430\u0432\u0438\u0441\u0438\u0442."
     ]
    },
    {
     "cell_type": "code",
     "collapsed": false,
     "input": [
      "%%R \n",
      "lm.good.female <- lm(gamble ~ income, data = tg.data[tg.data$sex == 1, ])\n",
      "print(summary(lm.good.female))\n",
      "lm.good.male <- lm(gamble ~ income, data = tg.data[!tg.data$sex == 1, ])\n",
      "print(summary(lm.good.male))\n"
     ],
     "language": "python",
     "metadata": {},
     "outputs": [
      {
       "metadata": {},
       "output_type": "display_data",
       "text": [
        "\n",
        "Call:\n",
        "lm(formula = gamble ~ income, data = tg.data[tg.data$sex == 1, \n",
        "    ])\n",
        "\n",
        "Residuals:\n",
        "   Min     1Q Median     3Q    Max \n",
        "-4.702 -3.527 -1.790  1.883 16.110 \n",
        "\n",
        "Coefficients:\n",
        "            Estimate Std. Error t value Pr(>|t|)\n",
        "(Intercept)   3.1400     2.3273   1.349    0.195\n",
        "income        0.1749     0.4789   0.365    0.719\n",
        "\n",
        "Residual standard error: 5.279 on 17 degrees of freedom\n",
        "Multiple R-squared:  0.007786,\tAdjusted R-squared:  -0.05058 \n",
        "F-statistic: 0.1334 on 1 and 17 DF,  p-value: 0.7194\n",
        "\n",
        "\n",
        "Call:\n",
        "lm(formula = gamble ~ income, data = tg.data[!tg.data$sex == \n",
        "    1, ])\n",
        "\n",
        "Residuals:\n",
        "    Min      1Q  Median      3Q     Max \n",
        "-56.522 -16.402  -2.342   7.901  93.478 \n",
        "\n",
        "Coefficients:\n",
        "            Estimate Std. Error t value Pr(>|t|)    \n",
        "(Intercept)   -2.660      8.021  -0.332    0.743    \n",
        "income         6.518      1.255   5.195 2.01e-05 ***\n",
        "---\n",
        "Signif. codes:  0 \u2018***\u2019 0.001 \u2018**\u2019 0.01 \u2018*\u2019 0.05 \u2018.\u2019 0.1 \u2018 \u2019 1\n",
        "\n",
        "Residual standard error: 26.64 on 26 degrees of freedom\n",
        "Multiple R-squared:  0.5093,\tAdjusted R-squared:  0.4905 \n",
        "F-statistic: 26.99 on 1 and 26 DF,  p-value: 2.01e-05\n",
        "\n"
       ]
      }
     ],
     "prompt_number": 21
    },
    {
     "cell_type": "markdown",
     "metadata": {},
     "source": [
      "\u0412\u043e\u0442 \u0435\u0441\u043b\u0438 \u043f\u043e\u043c\u043e\u0434\u0435\u043b\u0438\u0440\u043e\u0432\u0430\u0442\u044c \u043d\u0435\u0437\u0430\u0432\u0438\u0441\u0438\u043c\u043e \u043e\u0442 \u043a\u0430\u0436\u0434\u043e\u0433\u043e \u043f\u043e\u043b\u0430, \u0442\u043e \u0432\u0438\u0434\u043d\u043e, \u0447\u0442\u043e \u0436\u0435\u043d\u0449\u0438\u043d\u044b \u0438\u0433\u0440\u0430\u044e\u0442 \u043c\u0430\u043b\u043e \u043d\u0435\u0437\u0430\u0432\u0438\u0441\u0438\u043c\u043e \u043e\u0442 \u0434\u043e\u0445\u043e\u0434\u0430. \u0410 \u0432\u043e\u0442 \u043c\u0443\u0436\u0447\u0438\u043d\u044b \u0441 \u0443\u0432\u0435\u043b\u0438\u0447\u0435\u043d\u0438\u0435\u043c \u0434\u043e\u0445\u043e\u0434\u0430 \u043d\u0430\u0447\u0438\u043d\u0430\u044e\u0442 \u0438\u0433\u0440\u0430\u0442\u044c \u0431\u043e\u043b\u044c\u0448\u0435. \u041d\u0430\u0433\u043b\u044f\u0434\u043d\u044b\u0439 \u0440\u0438\u0441\u0443\u043d\u043e\u043a, \u0438\u0437 \u043a\u043e\u0442\u043e\u0440\u043e\u0433\u043e \u0432\u0441\u0435 \u0434\u043e\u043b\u0436\u043d\u043e \u0441\u0442\u0430\u0442\u044c \u043f\u043e\u043d\u044f\u0442\u043d\u043e:"
     ]
    },
    {
     "cell_type": "code",
     "collapsed": false,
     "input": [
      "%%R\n",
      "cols <- rep(\"red\", length(tg.data$sex))\n",
      "cols[tg.data$sex==0] <- \"blue\"\n",
      "plot(tg.data$income, tg.data$gamble, col = cols)\n"
     ],
     "language": "python",
     "metadata": {},
     "outputs": [
      {
       "metadata": {},
       "output_type": "display_data",
       "png": "[encoded data removed]"
      }
     ],
     "prompt_number": 29
    },
    {
     "cell_type": "heading",
     "level": 3,
     "metadata": {},
     "source": [
      "\u0423\u043d\u0438\u0432\u0435\u0440\u0441\u0438\u0442\u0435\u0442\u044b"
     ]
    },
    {
     "cell_type": "code",
     "collapsed": false,
     "input": [
      "%%R\n",
      "univ.data <- read.csv2(\"I.csv\", header=TRUE)\n",
      "print(head(univ.data, 1))"
     ],
     "language": "python",
     "metadata": {},
     "outputs": [
      {
       "metadata": {},
       "output_type": "display_data",
       "text": [
        "                     X PPIND FICE STATE TYPE AVRMATH AVRVERB AVRCOMB AVR_ACT\n",
        "1 Auburn University-Ma     1 1009    AL    I     575     501    1076      24\n",
        "  MATH_1 MATH_3 VERB_1 VERB_3 ACT_1 ACT_3 APP_REC APP_ACC NEW_STUD NEW10 NEW25\n",
        "1    520    638    453    559    21    27    7548    6791     3070    25    57\n",
        "  FULLTIME PARTTIME IN_STATE OUT_STAT R_B_COST ROOM BOARD ADD_FEE BOOK PERSONAL\n",
        "1    16262     1716     2100     6300     3933   NA    NA      NA  600     1908\n",
        "  PH_D TERM_D SF_RATIO DONATE INSTRUCT GRADUAT SAL_FULL SAL_AC SAL_AS SAL_ALL\n",
        "1   85     91     16.7     18     6642      69      580    437    374     455\n",
        "  COMP_FUL COMP_AC COMP_AS COMP_ALL NUM_FULL NUM_AC NUM_AS NUM_INS NUM_ALL\n",
        "1      692     527     451      546      366    354    301      66    1109\n"
       ]
      }
     ],
     "prompt_number": 33
    },
    {
     "cell_type": "markdown",
     "metadata": {},
     "source": [
      "\u041a \u0441\u043e\u0436\u0430\u043b\u0435\u043d\u0438\u044e \u043d\u0435\u0442 \u043a\u043e\u0434\u0430 \u0441 \u043f\u0440\u0430\u043a\u0442\u0438\u043a\u0438, \u0433\u0434\u0435 \u043c\u044b \u0440\u0430\u0437\u0431\u0438\u0440\u0430\u043b\u0438 \u0433\u043e\u0441\u0443\u0434\u0430\u0440\u0441\u0442\u0432\u0435\u043d\u043d\u044b\u0435 \u0443\u043d\u0438\u0432\u0435\u0440\u0441\u0438\u0442\u0435\u0442\u044b."
     ]
    }
   ],
   "metadata": {}
  }
 ]
}