{
 "metadata": {
  "name": ""
 },
 "nbformat": 3,
 "nbformat_minor": 0,
 "worksheets": [
  {
   "cells": [
    {
     "cell_type": "heading",
     "level": 1,
     "metadata": {},
     "source": [
      "\u0414\u043e\u043c\u0430\u0448\u043d\u044f\u044f \u0440\u0430\u0431\u043e\u0442\u0430 \u21161\n"
     ]
    },
    {
     "cell_type": "markdown",
     "metadata": {},
     "source": [
      "\u0420\u0435\u0448\u0438\u043b \u043f\u043e\u043f\u0440\u043e\u0431\u043e\u0432\u0430\u0442\u044c \u0434\u043b\u044f \u043e\u0444\u043e\u0440\u043c\u043b\u0435\u043d\u0438\u044f iPython notebook \u0441 \u0440\u0430\u0441\u0448\u0438\u0440\u0435\u043d\u0438\u0435\u043c R-magic. \u041f\u043e\u0441\u043c\u043e\u0442\u0440\u0438\u043c, \u0447\u0442\u043e \u043f\u043e\u043b\u0443\u0447\u0438\u0442\u0441\u044f."
     ]
    },
    {
     "cell_type": "code",
     "collapsed": false,
     "input": [
      "%pylab inline"
     ],
     "language": "python",
     "metadata": {},
     "outputs": [
      {
       "output_type": "stream",
       "stream": "stdout",
       "text": [
        "Populating the interactive namespace from numpy and matplotlib\n"
       ]
      }
     ],
     "prompt_number": 66
    },
    {
     "cell_type": "code",
     "collapsed": false,
     "input": [
      "%load_ext rmagic"
     ],
     "language": "python",
     "metadata": {},
     "outputs": [
      {
       "output_type": "stream",
       "stream": "stdout",
       "text": [
        "The rmagic extension is already loaded. To reload it, use:\n",
        "  %reload_ext rmagic\n"
       ]
      }
     ],
     "prompt_number": 67
    },
    {
     "cell_type": "heading",
     "level": 3,
     "metadata": {},
     "source": [
      "\u0422\u0435\u043e\u0440\u0435\u0442\u0438\u0447\u0435\u0441\u043a\u043e\u0435 \u0437\u0430\u0434\u0430\u043d\u0438\u0435\n"
     ]
    },
    {
     "cell_type": "heading",
     "level": 6,
     "metadata": {},
     "source": [
      "\u041f\u0440\u043e\u0438\u043d\u0442\u0435\u0440\u043f\u0440\u0435\u0442\u0438\u0440\u043e\u0432\u0430\u0442\u044c \u043f\u0440\u0438\u043c\u0435\u0440\u044b \u043d\u0430 \u0441\u043b\u0430\u0439\u0434\u0435 16"
     ]
    },
    {
     "cell_type": "markdown",
     "metadata": {},
     "source": [
      "\u041f\u0440\u0438\u043c\u0435\u0440 1: \u043f\u0440\u043e \u043c\u0435\u043b\u043e\u0447\u044c. \n",
      "\n",
      "\u0422\u0430\u043a \u0441\u043b\u043e\u0436\u043d\u043e \u0447\u0442\u043e-\u0442\u043e \u0441\u043a\u0430\u0437\u0430\u0442\u044c. \u041f\u043e-\u0445\u043e\u0440\u043e\u0448\u0435\u043c\u0443 \u0431\u043e\u043b\u044c\u0448\u0435 \u043c\u043e\u043d\u0435\u0442 \u043d\u0435 \u0437\u043d\u0430\u0447\u0438\u0442 \u0431\u043e\u043b\u044c\u0448\u0435 \u0434\u0435\u043d\u0435\u0433. \u041d\u043e \u0435\u0441\u043b\u0438 \u0437\u0430\u0444\u0438\u043a\u0441\u0438\u0440\u043e\u0432\u0430\u0442\u044c \u0447\u0438\u0441\u043b\u043e \u043a\u0440\u0443\u043f\u043d\u043e\u0439 \u043c\u0435\u043b\u043e\u0447\u0438 \u0438 \u0434\u043e\u0431\u0430\u0432\u043b\u044f\u0442\u044c \"\u043c\u0435\u0434\u0438\", \u0443\u0432\u0435\u043b\u0438\u0447\u0438\u0432\u0430\u044f \u043e\u0431\u0449\u0435\u0435 \u0447\u0438\u0441\u043b\u043e \u043c\u043e\u043d\u0435\u0442, \u0442\u043e \u0441\u0443\u043c\u043c\u0430\u0440\u043d\u043e \u0434\u0435\u043d\u0435\u0433 \u0441\u0442\u0430\u043d\u0435\u0442 \u0431\u043e\u043b\u044c\u0448\u0435. \u041f\u043e\u044d\u0442\u043e\u043c\u0443 \u043a\u043e\u044d\u0444\u0444\u0438\u0446\u0438\u0435\u043d\u0442 \u0434\u043e\u043b\u0436\u0435\u043d \u0431\u044b\u0442\u044c \u043f\u043e\u043b\u043e\u0436\u0438\u0442\u0435\u043b\u044c\u043d\u044b\u0439.\n",
      "\n",
      "\u041f\u0440\u0438\u043c\u0435\u0440 2: \u043f\u0440\u043e \u0441\u043f\u043e\u0440\u0442\u0441\u043c\u0435\u043d\u043e\u0432.\n",
      "\n",
      "\u0422\u0443\u0442 \u043f\u0440\u043e\u0441\u0442\u043e. \u041a\u043e\u0440\u0435\u043d\u0430\u0441\u0442\u044b\u0435 \u0444\u0443\u0442\u0431\u043e\u043b\u0438\u0441\u0442\u044b \u0434\u0435\u043b\u0430\u044e\u0442 \"\u044d\u0442\u043e\" \u0447\u0430\u0449\u0435 \u0441\u0432\u043e\u0438\u0445 \u0434\u043e\u043b\u0433\u043e\u0432\u044f\u0437\u044b\u0445 \u0441\u043e\u0431\u0440\u0430\u0442\u044c\u0435\u0432."
     ]
    },
    {
     "cell_type": "heading",
     "level": 6,
     "metadata": {},
     "source": [
      "\u041f\u0440\u043e\u0432\u0435\u0440\u044c\u0442\u0435 \u043a\u043e\u0440\u0440\u0435\u043a\u0442\u043d\u043e\u0441\u0442\u044c \u0444\u043e\u0440\u043c\u0443\u043b \u0434\u043b\u044f \u043a\u043e\u044d\u0444\u0444\u0438\u0446\u0438\u0435\u043d\u0442\u043e\u0432 \u0440\u0435\u0433\u0440\u0435\u0441\u0441\u0438\u0438"
     ]
    },
    {
     "cell_type": "markdown",
     "metadata": {},
     "source": [
      "$rss() = \\sum\\limits_{i=0}^{n} (y_i - b_0 - b_1\\cdot x_i)^2 = \\sum\\limits_{i=0}^{n} \\left( y_i^2 + b_0^2 + (b_1\\cdot x_i)^2 - 2y_i b_0 - 2y_i x_i b_1 + 2b_0 b_1 x \\right)$\n",
      "\n",
      "\u041d\u0443\u0436\u043d\u043e \u0432\u0437\u044f\u0442\u044c \u043f\u0440\u043e\u0438\u0437\u0432\u043e\u0434\u043d\u044b\u0435 \u043f\u043e $b_0$ \u0438 $b_1$ \u0447\u0442\u043e\u0431\u044b \u043d\u0430\u0439\u0442\u0438 \u043c\u0438\u043d\u0438\u043c\u0443\u043c \u044d\u0442\u043e\u0439 \u0444\u0443\u043d\u043a\u0446\u0438\u0438\n",
      "\n",
      "$\\frac{\\partial rss}{\\partial b_0} = -2\\sum (y_i - b_1 x_i) + 2 b_0 N  = 0$\n",
      "\n",
      "$b_0 = \\bar{y} - b_1 \\bar{x}$\n",
      "\n",
      "$\\frac{\\partial rss}{\\partial b_1} = 2b_1\\sum x_i^2 - 2\\sum x_i\\cdot y_i + 2 b_0 \\sum x_i = \n",
      "2b_1\\sum x_i^2 - \\sum x_i\\cdot y_i + 2\\bar{y}\\sum x_i - 2 b_1 \\bar{x} \\sum x_i = 0$\n",
      "\n",
      "$b_1 = \\frac{\\sum x_iy_i - \\bar{y} \\sum x_i} {(\\sum x_i^2 - \\bar{x} \\sum x_i) } $\n",
      "\n",
      "$\\sum x_iy_i - \\bar{y} \\sum x_i = \\sum x_iy_i - \\bar{y} \\sum x_i + N\\bar{x}\\bar{y} - N\\bar{x}\\bar{y} = \n",
      "\\sum x_iy_i - \\bar{y} \\sum x_i - \\bar{x}\\sum x_i + \\sum \\bar{x} \\bar{y} = \\sum (x_i - \\bar{x})(y_i - \\bar{y})$\n",
      "\n",
      "$\\sum x_i^2 - \\bar{x} \\sum x_i = \\sum x_i ^2 - \\bar{x} \\sum x_i - \\bar{x}\\bar{x}N + \\bar{x}\\bar{x}N = \n",
      "\\sum x_i^2 - \\bar{x} \\sum x_i - \\bar{x} \\sum x_i + \\sum \\bar{x}^2 = \\sum (x_i - \\bar{x})^2$\n",
      "\n",
      "$b_1 = \\frac{\\sum (x_i - \\bar{x})(y_i - \\bar{y})} {\\sum (x_i - \\bar{x})^2} $\n"
     ]
    },
    {
     "cell_type": "heading",
     "level": 6,
     "metadata": {},
     "source": [
      "\u041e\u0442\u0432\u0435\u0442\u0438\u0442\u044c \u0441 \u043e\u0431\u043e\u0441\u043d\u043e\u0432\u0430\u043d\u0438\u0435\u043c"
     ]
    },
    {
     "cell_type": "markdown",
     "metadata": {},
     "source": [
      "1. \u0415\u0441\u0442\u044c \u043b\u0438 \u0441\u0432\u044f\u0437\u044c \u043c\u0435\u0436\u0434\u0443 \u043f\u0440\u043e\u0434\u0430\u0436\u0430\u043c\u0438 \u0438 \u0440\u0435\u043a\u043b\u0430\u043c\u043d\u044b\u043c\u0438 \u0431\u044e\u0434\u0436\u0435\u0442\u0430\u043c\u0438?\n",
      "\n",
      " \u0415\u0441\u0442\u044c. \u0412\u043e \u0432\u0441\u044f\u043a\u043e\u043c \u0441\u043b\u0443\u0447\u0430\u0435 \u043c\u044b \u043d\u0435 \u043e\u0442\u0432\u0435\u0440\u0433\u0430\u0435\u043c \u0433\u0438\u043f\u043e\u0442\u0435\u0437\u0443 \u043e \u0442\u043e\u043c, \u0447\u0442\u043e \u043a\u043e\u044d\u0444\u0444\u0438\u0446\u0438\u0435\u043d\u0442\u044b \u043f\u0440\u0438 \u0431\u044e\u0434\u0436\u0435\u0442\u0430\u0445 \u043d\u0435 \u0440\u0430\u0432\u043d\u044b \u043d\u0443\u043b\u044e.\n",
      "\n",
      "2. \u0415\u0441\u043b\u0438 \u0435\u0441\u0442\u044c, \u0442\u043e \u043d\u0430\u0441\u043a\u043e\u043b\u044c\u043a\u043e \u0441\u0438\u043b\u044c\u043d\u0430\u044f?\n",
      "\n",
      " \u041c\u0435\u0440\u0430 $R^2$ \u0434\u043e\u0432\u043e\u043b\u044c\u043d\u0430 \u0431\u043e\u043b\u044c\u0448\u0430\u044f (0.89) \u043f\u043e\u044d\u0442\u043e\u043c\u0443 \u0441\u0432\u044f\u0437\u044c \u0432\u0435\u0441\u044c\u043c\u0430 \u0441\u0438\u043b\u044c\u043d\u0430.\n",
      "\n",
      "3. \u0412\u043b\u0438\u044f\u043d\u0438\u0435 \u043e\u043a\u0430\u0437\u044b\u0432\u0430\u044e\u0442 \u0432\u0441\u0435 \u0432\u0438\u0434\u044b \u0440\u0435\u043a\u043b\u0430\u043c\u044b \u0438\u043b\u0438 \u043a\u0430\u043a\u0438\u0435-\u0442\u043e \u043e\u0441\u043e\u0431\u0435\u043d\u043d\u044b\u0435? \u041a\u0430\u043a\u0438\u0435 \u0438\u043c\u0435\u043d\u043d\u043e?\n",
      "\n",
      " \u041d\u0430\u0438\u0431\u043e\u043b\u044c\u0448\u0435\u0435 \u0432\u043b\u0438\u044f\u043d\u0438\u0435 \u043e\u043a\u0430\u0437\u044b\u0432\u0430\u044e\u0442 \u0442\u0435\u043b\u0435\u0432\u0438\u0434\u0435\u043d\u0438\u0435 \u0438 \u0440\u0430\u0434\u0438\u043e. \u0423 \u043d\u0438\u0445 \u043a\u043e\u044d\u0444\u0444\u0438\u0446\u0438\u0435\u043d\u0442\u044b \u0431\u043e\u043b\u044c\u0448\u0435. \n",
      "\n",
      "4. \u042f\u0432\u043b\u044f\u0435\u0442\u0441\u044f \u043b\u0438 \u0441\u0432\u044f\u0437\u044c \u043b\u0438\u043d\u0435\u0439\u043d\u043e\u0439?\n",
      "\n",
      " \u041c\u044b \u043d\u0430 \u0437\u0430\u043d\u044f\u0442\u0438\u0438 \u0440\u0430\u0441\u0441\u043c\u043e\u0442\u0440\u0435\u043b\u0438 \u0433\u0438\u043f\u043e\u0442\u0435\u0437\u0443 \u043e \u043d\u0435\u043d\u0443\u043b\u0435\u0432\u043e\u043c \u043a\u043e\u044d\u0444\u0444\u0438\u0446\u0438\u0435\u043d\u0442\u0435 \u043f\u0440\u0438 $TV^2$. \u041e\u0442\u0432\u0435\u0440\u0433\u043d\u0443\u0442\u044c \u0435\u0435 \u043c\u044b \u043d\u0435 \u0440\u0435\u0448\u0438\u043b\u0438\u0441\u044c.\n",
      "\n",
      "5. \u0415\u0441\u0442\u044c \u043b\u0438 \u0432\u0437\u0430\u0438\u043c\u043d\u043e\u0435 \u0432\u043b\u0438\u044f\u043d\u0438\u0435 \u043c\u0435\u0436\u0434\u0443 \u0440\u0430\u0437\u043d\u044b\u043c\u0438 \u0432\u0438\u0434\u0430\u043c\u0438 \u0440\u0435\u043a\u043b\u0430\u043c\u044b?\n",
      "\n",
      " \u0422\u043e\u0436\u0435 \u0441\u0430\u043c\u043e\u0435, \u0443 \u043d\u0430\u0441 \u0443\u0432\u0435\u043b\u0438\u0447\u0435\u043d\u0438\u0435 \u043a\u043e\u043b\u0438\u0447\u0435\u0441\u0442\u0432\u0430 \u0440\u0435\u043a\u043b\u0430\u043c\u044b \u0432 \u0433\u0430\u0437\u0435\u0442\u0430\u0445 (\u0432\u0440\u043e\u0434\u0435 \u043a\u0430\u043a) \u043f\u043e\u043c\u043e\u0433\u0430\u043b\u043e \u0440\u0435\u043a\u043b\u0430\u043c\u0435 \u043d\u0430 \u0442\u0435\u043b\u0435\u0432\u0438\u0434\u0435\u043d\u0438\u0438."
     ]
    },
    {
     "cell_type": "heading",
     "level": 3,
     "metadata": {},
     "source": [
      "\u041f\u0440\u0430\u043a\u0442\u0438\u0447\u0435\u0441\u043a\u043e\u0435 \u0437\u0430\u0434\u0430\u043d\u0438\u0435"
     ]
    },
    {
     "cell_type": "markdown",
     "metadata": {},
     "source": [
      "\u0417\u0430\u0433\u0440\u0443\u0437\u043a\u0430 \u0434\u0430\u043d\u043d\u044b\u0445"
     ]
    },
    {
     "cell_type": "code",
     "collapsed": false,
     "input": [
      "%R adv.data <- read.csv(\"./Advertising.csv\")\n",
      "%R adv.data$X <- NULL\n",
      "%R names(adv.data)"
     ],
     "language": "python",
     "metadata": {},
     "outputs": [
      {
       "metadata": {},
       "output_type": "pyout",
       "prompt_number": 68,
       "text": [
        "array(['TV', 'Radio', 'Newspaper', 'Sales'], \n",
        "      dtype='<U9')"
       ]
      }
     ],
     "prompt_number": 68
    },
    {
     "cell_type": "markdown",
     "metadata": {},
     "source": [
      "\u0420\u0430\u0437\u0431\u0438\u0432\u0430\u0435\u043c \u043d\u0430 \u043f\u043e\u0434\u043c\u043d\u043e\u0436\u0435\u0441\u0442\u0432\u0430"
     ]
    },
    {
     "cell_type": "code",
     "collapsed": false,
     "input": [
      "%R mask <- c(TRUE, TRUE, FALSE)\n",
      "%R adv.data.learning <- adv.data[mask,]\n",
      "%R adv.data.testing <- adv.data[!mask,]\n",
      "%R length(adv.data.testing[[1]])"
     ],
     "language": "python",
     "metadata": {},
     "outputs": [
      {
       "metadata": {},
       "output_type": "pyout",
       "prompt_number": 69,
       "text": [
        "array([66], dtype=int32)"
       ]
      }
     ],
     "prompt_number": 69
    },
    {
     "cell_type": "markdown",
     "metadata": {},
     "source": [
      "\u041e\u0431\u0443\u0447\u0430\u0435\u043c\u0441\u044f"
     ]
    },
    {
     "cell_type": "code",
     "collapsed": false,
     "input": [
      "%R adv.model <- lm(Sales ~ ., data= adv.data.learning)\n",
      "%R print(summary(adv.model))"
     ],
     "language": "python",
     "metadata": {},
     "outputs": [
      {
       "metadata": {},
       "output_type": "display_data",
       "text": [
        "\n",
        "Call:\n",
        "lm(formula = Sales ~ ., data = adv.data.learning)\n",
        "\n",
        "Residuals:\n",
        "    Min      1Q  Median      3Q     Max \n",
        "-8.6716 -0.9557  0.2806  1.2279  2.8133 \n",
        "\n",
        "Coefficients:\n",
        "            Estimate Std. Error t value Pr(>|t|)    \n",
        "(Intercept) 2.861560   0.391667   7.306 2.47e-11 ***\n",
        "TV          0.045661   0.001785  25.574  < 2e-16 ***\n",
        "Radio       0.184998   0.010447  17.708  < 2e-16 ***\n",
        "Newspaper   0.005990   0.007253   0.826     0.41    \n",
        "---\n",
        "Signif. codes:  0 \u2018***\u2019 0.001 \u2018**\u2019 0.01 \u2018*\u2019 0.05 \u2018.\u2019 0.1 \u2018 \u2019 1\n",
        "\n",
        "Residual standard error: 1.74 on 130 degrees of freedom\n",
        "Multiple R-squared:  0.8932,\tAdjusted R-squared:  0.8907 \n",
        "F-statistic: 362.4 on 3 and 130 DF,  p-value: < 2.2e-16\n",
        "\n"
       ]
      }
     ],
     "prompt_number": 70
    },
    {
     "cell_type": "markdown",
     "metadata": {},
     "source": [
      "\u041f\u0440\u0435\u0434\u0441\u043a\u0430\u0437\u044b\u0432\u0430\u0435\u043c \u0437\u043d\u0430\u0447\u0435\u043d\u0438\u044f \u043f\u043e \u0442\u0435\u0441\u0442\u043e\u0432\u043e\u0439 \u0432\u044b\u0431\u043e\u0440\u043a\u0435\n"
     ]
    },
    {
     "cell_type": "code",
     "collapsed": false,
     "input": [
      "%R adv.data.predict <- predict(adv.model, adv.data.testing)\n",
      "%R plot(adv.data.predict, adv.data.testing$Sales)"
     ],
     "language": "python",
     "metadata": {},
     "outputs": [
      {
       "metadata": {},
       "output_type": "display_data",
       "png": "[encoded data removed]"
      }
     ],
     "prompt_number": 71
    },
    {
     "cell_type": "markdown",
     "metadata": {},
     "source": [
      "\u041e\u0448\u0438\u0431\u043a\u0438:"
     ]
    },
    {
     "cell_type": "code",
     "collapsed": false,
     "input": [
      "%R adv.rss <- function(model, data, values){sum((values - rowSums(mapply(function(n) if (n == \"(Intercept)\") rep(coef(model)[n], length(values)) else coef(model)[n]*as.numeric(data[[n]]), names(coef(model)))))^2)}\n",
      "%R print(adv.rss(adv.model, adv.data.testing, adv.data.testing$Sales))\n",
      "%R print(adv.rss(adv.model, adv.data.testing, adv.data.predict))\n"
     ],
     "language": "python",
     "metadata": {},
     "outputs": [
      {
       "metadata": {},
       "output_type": "display_data",
       "text": [
        "[1] 167.6886\n"
       ]
      },
      {
       "metadata": {},
       "output_type": "display_data",
       "text": [
        "[1] 1.143848e-28\n"
       ]
      }
     ],
     "prompt_number": 72
    },
    {
     "cell_type": "markdown",
     "metadata": {},
     "source": [
      "\u041a\u0430\u043a \u0432\u0438\u0434\u043d\u043e \u043c\u043e\u0434\u0435\u043b\u044c \u043f\u043e\u043b\u043d\u043e\u0441\u0442\u044c\u044e \u043e\u0431\u044a\u044f\u0441\u043d\u044f\u0435\u0442 \u043f\u0440\u0435\u0434\u0441\u043a\u0430\u0437\u0430\u043d\u043d\u043e\u0435 \u0437\u043d\u0430\u0447\u0435\u043d\u0438\u0435. \u0427\u0442\u043e \u0438 \u043d\u0435 \u0443\u0434\u0438\u0432\u0438\u0442\u0435\u043b\u044c\u043d\u043e. "
     ]
    },
    {
     "cell_type": "code",
     "collapsed": false,
     "input": [
      "%R adv.model.signif <- lm(Sales ~ . - Newspaper, data=adv.data.learning)\n",
      "%R print(adv.rss(adv.model.signif, adv.data.testing, adv.data.testing$Sales))\n",
      "%R print(adv.rss(adv.model.signif, adv.data.testing, predict(adv.model.signif, adv.data.testing)))"
     ],
     "language": "python",
     "metadata": {},
     "outputs": [
      {
       "metadata": {},
       "output_type": "display_data",
       "text": [
        "[1] 161.7291\n"
       ]
      },
      {
       "metadata": {},
       "output_type": "display_data",
       "text": [
        "[1] 5.147317e-29\n"
       ]
      }
     ],
     "prompt_number": 73
    },
    {
     "cell_type": "markdown",
     "metadata": {},
     "source": [
      "\u042f \u0432\u044b\u043a\u0438\u043d\u0443\u043b \u0438\u0437 \u043c\u043e\u0434\u0435\u043b\u0438 \u0437\u043d\u0430\u0447\u0435\u043d\u0438\u044f Newspaper, \u043a\u0430\u043a \u0441\u0430\u043c\u043e\u0433\u043e \u043d\u0435\u0437\u043d\u0430\u0447\u0438\u043c\u043e\u0433\u043e \u043f\u0440\u0438\u0437\u043d\u0430\u043a\u0430. \u0417\u043d\u0430\u0447\u0435\u043d\u0438\u044f \u043f\u043e\u043b\u0443\u0447\u0438\u043b\u0438\u0441\u044c \u043b\u0443\u0447\u0448\u0435 \u0447\u0435\u043c \u0432 \u043f\u0440\u0435\u0434\u044b\u0434\u0443\u0449\u0435\u043c \u0441\u043b\u0443\u0447\u0430\u0435. \u041a\u0430\u0436\u0435\u0442\u0441\u044f, \u0431\u0443\u0434\u0442\u043e Newspaper \u0442\u043e\u043b\u044c\u043a\u043e \u0434\u043e\u0431\u0430\u0432\u043b\u044f\u0435\u0442 \u043b\u0438\u0448\u043d\u0438\u0439 \u0448\u0443\u043c. \n",
      "\n",
      "\u041e\u0448\u0438\u0431\u043a\u0430 \u043d\u0430 \u043f\u0440\u0435\u0434\u0441\u043a\u0430\u0437\u0430\u043d\u043d\u043e\u043c \u0437\u043d\u0430\u0447\u0435\u043d\u0438\u0438 \u043f\u0440\u0430\u043a\u0442\u0438\u0447\u0435\u0441\u043a\u0438 \u0440\u0430\u0432\u043d\u0430 \u043d\u0443\u043b\u044e. \u042d\u0442\u043e \u0442\u0430\u043a \u0438 \u0434\u043e\u043b\u0436\u043d\u043e \u0431\u044b\u0442\u044c. \u0422\u0430\u043a \u0447\u0442\u043e \u0434\u0430\u043b\u044c\u0448\u0435 \u044f \u043d\u0435 \u0431\u0443\u0434\u0443 \u044d\u0442\u043e \u043f\u0440\u043e\u0432\u0435\u0440\u044f\u0442\u044c."
     ]
    },
    {
     "cell_type": "code",
     "collapsed": false,
     "input": [
      "%R adv.model.nsignif <- lm(Sales ~ . - TV, data=adv.data.learning)\n",
      "%R print(adv.rss(adv.model.nsignif, adv.data.testing, adv.data.testing$Sales))\n",
      "%R adv.model.nsignif <- lm(Sales ~ 1, data=adv.data.learning)\n",
      "%R print(adv.rss(adv.model.nsignif, adv.data.testing, adv.data.testing$Sales))\n"
     ],
     "language": "python",
     "metadata": {},
     "outputs": [
      {
       "metadata": {},
       "output_type": "display_data",
       "text": [
        "[1] 1256.509\n"
       ]
      },
      {
       "metadata": {},
       "output_type": "display_data",
       "text": [
        "[1] 1732.075\n"
       ]
      }
     ],
     "prompt_number": 74
    },
    {
     "cell_type": "markdown",
     "metadata": {},
     "source": [
      "\u0410 \u0432\u043e\u0442 \u0432\u044b\u043a\u0438\u0434\u044b\u0432\u0430\u0442\u044c \u0437\u043d\u0430\u0447\u0438\u043c\u044b\u0435 \u043f\u0440\u0438\u0437\u043d\u0430\u043a\u0438 \u043d\u0435 \u0441\u043b\u0435\u0434\u0443\u0435\u0442. \u041e\u0448\u0438\u0431\u043a\u0430 \u0432\u043e\u0437\u0440\u043e\u0441\u043b\u0430 \u0437\u043d\u0430\u0447\u0438\u0442\u0435\u043b\u044c\u043d\u043e, \u043a\u0430\u043a \u0442\u043e\u043b\u044c\u043a\u043e \u044f \u0432\u044b\u043a\u0438\u043d\u0443\u043b \u0438\u0437 \u043c\u043e\u0434\u0435\u043b\u0438 \u0440\u0435\u043a\u043b\u0430\u043c\u0443 \u043f\u043e \u0442\u0435\u043b\u0435\u0432\u0438\u0434\u0435\u043d\u0438\u044e. \u0410 \u0435\u0441\u043b\u0438 \u0432\u044b\u043a\u0438\u043d\u0443\u0442\u044c \u0432\u043e\u043e\u0431\u0449\u0435 \u0432\u0441\u0435 \u043f\u0440\u0438\u0437\u043d\u0430\u043a\u0438 \u0438 \u043f\u0440\u043e\u043c\u043e\u0434\u0435\u043b\u0438\u0440\u043e\u0432\u0430\u0442\u044c \u0432\u044b\u0431\u043e\u0440\u043e\u0447\u043d\u044b\u043c \u0441\u0440\u0435\u0434\u043d\u0438\u043c, \u0442\u043e \u043e\u0448\u0438\u0431\u043a\u0430 \u0431\u0443\u0434\u0435\u0442 \u043e\u0447\u0435\u043d\u044c \u0431\u043e\u043b\u044c\u0448\u0430\u044f.\n"
     ]
    },
    {
     "cell_type": "code",
     "collapsed": false,
     "input": [],
     "language": "python",
     "metadata": {},
     "outputs": [],
     "prompt_number": 74
    }
   ],
   "metadata": {}
  }
 ]
}